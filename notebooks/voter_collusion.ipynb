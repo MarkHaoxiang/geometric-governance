{
 "cells": [
  {
   "cell_type": "markdown",
   "metadata": {},
   "source": [
    "# Learning plurality voting with DeepSets\n",
    "\n",
    "## Dataset construction"
   ]
  },
  {
   "cell_type": "code",
   "execution_count": 32,
   "metadata": {},
   "outputs": [],
   "source": [
    "import numpy as np\n",
    "import torch\n",
    "import torch.nn.functional as F\n",
    "import torch.nn as nn\n",
    "from torch.utils.data import Dataset, DataLoader\n",
    "from torch_geometric.nn import MLP, DeepSetsAggregation, conv\n",
    "from tqdm import tqdm\n",
    "\n",
    "from geometric_governance.util import RangeOrValue, get_value\n",
    "from geometric_governance.data import generate_synthetic_election"
   ]
  },
  {
   "cell_type": "code",
   "execution_count": 58,
   "metadata": {},
   "outputs": [],
   "source": [
    "NUM_VOTERS_RANGE = (3, 50)\n",
    "NUM_COLLUDERS_RANGE = (0, 20)\n",
    "NUM_CANDIDATES = 3\n",
    "TRAIN_BATCH_SIZE = 128\n",
    "TRAIN_NUM_EPOCHS = 10_000"
   ]
  },
  {
   "cell_type": "code",
   "execution_count": 25,
   "metadata": {},
   "outputs": [
    {
     "name": "stdout",
     "output_type": "stream",
     "text": [
      "tensor([[0, 0, 0, 0, 1, 1, 1, 1, 2, 2, 2, 2, 3, 3, 3, 3, 4, 4, 4, 4],\n",
      "        [1, 2, 3, 4, 0, 2, 3, 4, 0, 1, 3, 4, 0, 1, 2, 4, 0, 1, 2, 3]])\n"
     ]
    }
   ],
   "source": [
    "def fully_connected_directed_edge_index(n):\n",
    "    row, col = torch.meshgrid(torch.arange(n), torch.arange(n), indexing='ij')\n",
    "    edge_index = torch.stack([row.flatten(), col.flatten()], dim=0)\n",
    "    return edge_index[:, edge_index[0] != edge_index[1]]  # Remove self-loops\n",
    "\n",
    "print(fully_connected_directed_edge_index(5))"
   ]
  },
  {
   "cell_type": "code",
   "execution_count": 70,
   "metadata": {},
   "outputs": [],
   "source": [
    "class CollusionModel(nn.Module):\n",
    "    def __init__(self, num_candidates: int, embedding_size: int = 128):\n",
    "        super().__init__()\n",
    "        self.embedding_size = embedding_size\n",
    "\n",
    "        self.fc1 = nn.Linear(num_candidates, embedding_size)\n",
    "        self.convs = nn.ModuleList([conv.GATv2Conv(in_channels=(2 * embedding_size), out_channels=(embedding_size)) for _ in range(3)])\n",
    "        self.fc2 = nn.Linear(embedding_size, num_candidates)\n",
    "\n",
    "    def forward(self, x, index):\n",
    "        x = self.fc1(x)\n",
    "        \n",
    "        for conv_layer in self.convs:\n",
    "            # Use Randomized Normal Features to disambiguate voters\n",
    "            rnf = torch.normal(mean=torch.zeros(x.size(-2), self.embedding_size), std=1.)\n",
    "            x = torch.concat([x, rnf], dim=-1)\n",
    "\n",
    "            x = conv_layer(x, index)\n",
    "            \n",
    "        x = F.relu(x)\n",
    "        \n",
    "        x = self.fc2(x)\n",
    "        \n",
    "        x = F.softmax(x, dim=-1)\n",
    "        \n",
    "        return x"
   ]
  },
  {
   "cell_type": "code",
   "execution_count": 79,
   "metadata": {},
   "outputs": [],
   "source": [
    "collusion_model = CollusionModel(NUM_CANDIDATES)\n",
    "collusion_model.train()\n",
    "optim = torch.optim.Adam(collusion_model.parameters())"
   ]
  },
  {
   "cell_type": "code",
   "execution_count": 81,
   "metadata": {},
   "outputs": [
    {
     "name": "stderr",
     "output_type": "stream",
     "text": [
      "100%|█████████████████████████████████████████████████████████████████████████████████████████████████████████████████████████████████████████████████████████████████| 10000/10000 [00:28<00:00, 347.13it/s, collusion_loss=tensor(1.5514, grad_fn=<DivBackward1>)]\n"
     ]
    }
   ],
   "source": [
    "rng = np.random.default_rng(seed=42)\n",
    "\n",
    "epochs = tqdm(range(TRAIN_NUM_EPOCHS))\n",
    "for epoch in epochs:\n",
    "    num_voters = get_value(NUM_VOTERS_RANGE, rng)\n",
    "    num_colluders = get_value(NUM_COLLUDERS_RANGE, rng)\n",
    "    voter_utilities = rng.dirichlet(\n",
    "        alpha=(1.,) * NUM_CANDIDATES, size=(num_voters + 1)\n",
    "    )\n",
    "    # Duplicate the last candidate's data to generate colluding voters' data\n",
    "    # so that all colluding candidates share the same utility\n",
    "    collusion_utility = voter_utilities[-1][None, :]\n",
    "    collusion_candidate = np.argmax(collusion_utility)\n",
    "    collusion_utilities = np.tile(collusion_utility, (num_colluders, 1))\n",
    "    collusion_utilities = torch.from_numpy(collusion_utilities).float()\n",
    "    #print(collusion_utilities)\n",
    "\n",
    "    # Colluders cast their vote jointly (by adjusting the utilities)\n",
    "    collusion_utilities = collusion_model(collusion_utilities, fully_connected_directed_edge_index(len(collusion_utilities)))\n",
    "    #print(collusion_utilities)\n",
    "\n",
    "    # Assimilate votes\n",
    "    voter_utilities = torch.cat([torch.from_numpy(voter_utilities[:-1]).float(), collusion_utilities])\n",
    "\n",
    "    # Plurality voting\n",
    "    election_result = F.softmax(torch.sum(voter_utilities, dim=-2), dim=-1)\n",
    "    #print(election_result)\n",
    "\n",
    "    # The colluders' loss is how close they can get to getting their chosen candidate to win the election/lottery\n",
    "    ideal_result = torch.zeros_like(election_result)\n",
    "    ideal_result[collusion_candidate] = 1.\n",
    "    #print(ideal_result)\n",
    "\n",
    "    optim.zero_grad()\n",
    "    collusion_loss = torch.nn.functional.cross_entropy(election_result, ideal_result)\n",
    "    collusion_loss.backward()\n",
    "    optim.step()\n",
    "\n",
    "    epochs.set_postfix({\"collusion_loss\": collusion_loss})\n",
    "    #break\n",
    "    \n"
   ]
  },
  {
   "cell_type": "code",
   "execution_count": 82,
   "metadata": {},
   "outputs": [
    {
     "data": {
      "text/plain": [
       "tensor([[0., 1., 0.],\n",
       "        [0., 1., 0.],\n",
       "        [0., 1., 0.],\n",
       "        [0., 1., 0.],\n",
       "        [0., 1., 0.],\n",
       "        [0., 1., 0.],\n",
       "        [0., 1., 0.],\n",
       "        [0., 1., 0.],\n",
       "        [0., 1., 0.],\n",
       "        [0., 1., 0.],\n",
       "        [0., 1., 0.],\n",
       "        [0., 1., 0.],\n",
       "        [0., 1., 0.],\n",
       "        [0., 1., 0.],\n",
       "        [0., 1., 0.],\n",
       "        [0., 1., 0.],\n",
       "        [0., 1., 0.],\n",
       "        [0., 1., 0.],\n",
       "        [0., 1., 0.]], grad_fn=<SoftmaxBackward0>)"
      ]
     },
     "execution_count": 82,
     "metadata": {},
     "output_type": "execute_result"
    }
   ],
   "source": [
    "collusion_utilities"
   ]
  },
  {
   "cell_type": "code",
   "execution_count": 83,
   "metadata": {},
   "outputs": [
    {
     "data": {
      "text/plain": [
       "tensor([6.6456e-09, 1.0000e+00, 1.7945e-08], grad_fn=<SoftmaxBackward0>)"
      ]
     },
     "execution_count": 83,
     "metadata": {},
     "output_type": "execute_result"
    }
   ],
   "source": [
    "election_result"
   ]
  }
 ],
 "metadata": {
  "kernelspec": {
   "display_name": "Python 3 (ipykernel)",
   "language": "python",
   "name": "python3"
  },
  "language_info": {
   "codemirror_mode": {
    "name": "ipython",
    "version": 3
   },
   "file_extension": ".py",
   "mimetype": "text/x-python",
   "name": "python",
   "nbconvert_exporter": "python",
   "pygments_lexer": "ipython3",
   "version": "3.12.3"
  }
 },
 "nbformat": 4,
 "nbformat_minor": 4
}
