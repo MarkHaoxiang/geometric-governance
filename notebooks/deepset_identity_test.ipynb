{
 "cells": [
  {
   "cell_type": "code",
   "execution_count": 30,
   "id": "ef6512a5-d8a8-4ea5-affe-2aea7a834448",
   "metadata": {},
   "outputs": [],
   "source": [
    "import numpy as np\n",
    "import torch\n",
    "from tqdm import tqdm\n",
    "from geometric_governance.model import DeepSetStrategyModel\n",
    "from geometric_governance.util import get_value\n",
    "\n",
    "device = torch.device(0) if torch.cuda.is_available() else torch.device(\"cpu\")"
   ]
  },
  {
   "cell_type": "code",
   "execution_count": 31,
   "id": "377a1456-1785-4901-bdc5-3e5bca6d6fd8",
   "metadata": {},
   "outputs": [],
   "source": [
    "BATCH_SIZE = (1, 128)\n",
    "NUM_EPOCHS = 10_000"
   ]
  },
  {
   "cell_type": "code",
   "execution_count": 32,
   "id": "583bf5bb-6e4e-4cbc-be85-39278ae14f7b",
   "metadata": {},
   "outputs": [],
   "source": [
    "model = DeepSetStrategyModel()\n",
    "model.train()\n",
    "optim = torch.optim.Adam(model.parameters())"
   ]
  },
  {
   "cell_type": "code",
   "execution_count": 33,
   "id": "d337ea78-10f1-4aa6-9230-a0d5eff52eb3",
   "metadata": {},
   "outputs": [
    {
     "name": "stderr",
     "output_type": "stream",
     "text": [
      "100%|██████████████████████████████████████████████████████████████████████████████████████████| 10000/10000 [00:11<00:00, 905.92it/s, loss=tensor(5.9629e-06, grad_fn=<MseLossBackward0>)]\n"
     ]
    }
   ],
   "source": [
    "rng = np.random.default_rng(seed=42)\n",
    "\n",
    "epochs = tqdm(range(NUM_EPOCHS))\n",
    "for epoch in epochs:\n",
    "    num_nodes = get_value((3, 50), rng).item()\n",
    "    batch_size = get_value(BATCH_SIZE, rng).item()\n",
    "    edge_from = torch.randint(low=0, high=num_nodes, size=(batch_size,))\n",
    "    edge_to = torch.randint(low=0, high=num_nodes, size=(batch_size,))\n",
    "    edge_index = torch.stack([edge_from, edge_to])\n",
    "    edge_attr = torch.normal(mean=torch.zeros(batch_size, 1))\n",
    "    candidate_idxs = torch.zeros(num_nodes)\n",
    "\n",
    "    optim.zero_grad()\n",
    "    out = model(edge_attr, edge_index, candidate_idxs)\n",
    "    loss = torch.nn.functional.mse_loss(out, edge_attr)\n",
    "    loss.backward()\n",
    "    optim.step()\n",
    "\n",
    "    epochs.set_postfix({\n",
    "        \"loss\": loss,\n",
    "    })"
   ]
  },
  {
   "cell_type": "code",
   "execution_count": 34,
   "id": "4dc63e67-7feb-4711-9d52-ba001899e5d6",
   "metadata": {},
   "outputs": [
    {
     "data": {
      "text/plain": [
       "(tensor([[-0.2150],\n",
       "         [-0.9205],\n",
       "         [-0.8790],\n",
       "         [-1.1981],\n",
       "         [-0.9081],\n",
       "         [-0.8153],\n",
       "         [ 0.8131],\n",
       "         [-2.2566],\n",
       "         [ 1.8169],\n",
       "         [-0.2819],\n",
       "         [ 0.9922],\n",
       "         [-1.4609],\n",
       "         [ 1.1899],\n",
       "         [-0.0370],\n",
       "         [-0.3088],\n",
       "         [-0.5088],\n",
       "         [ 0.9589],\n",
       "         [-0.9516],\n",
       "         [-0.7196],\n",
       "         [-0.5934],\n",
       "         [ 2.5510],\n",
       "         [ 0.5920],\n",
       "         [-0.0805],\n",
       "         [ 0.5214],\n",
       "         [ 0.7690],\n",
       "         [-0.9838],\n",
       "         [-1.2154],\n",
       "         [-0.4463],\n",
       "         [ 0.9495],\n",
       "         [ 0.3588],\n",
       "         [-1.5629],\n",
       "         [-0.1639],\n",
       "         [-0.7884],\n",
       "         [ 1.2625],\n",
       "         [ 1.9150],\n",
       "         [-0.3832],\n",
       "         [-0.2996],\n",
       "         [-0.8946],\n",
       "         [-1.8050],\n",
       "         [-0.2715],\n",
       "         [ 0.7061],\n",
       "         [-0.3571],\n",
       "         [ 0.8235],\n",
       "         [ 1.5512],\n",
       "         [-1.0858],\n",
       "         [ 0.9513],\n",
       "         [-0.4984],\n",
       "         [ 0.7268],\n",
       "         [-0.0591],\n",
       "         [ 1.2847],\n",
       "         [ 0.4636],\n",
       "         [ 0.4923],\n",
       "         [-1.4358],\n",
       "         [-1.7941],\n",
       "         [-0.3093],\n",
       "         [ 0.4150],\n",
       "         [ 0.4507],\n",
       "         [-0.1750],\n",
       "         [ 1.1130],\n",
       "         [ 1.8004],\n",
       "         [ 0.1827],\n",
       "         [-0.2054]]),\n",
       " tensor([[ 4, 16,  0, 11,  4,  2, 15,  1, 17, 16,  7, 10, 11, 10,  6, 13, 12,  1,\n",
       "          10,  5, 18,  7,  0,  7, 15, 13, 17,  4, 18, 18,  3, 11, 13,  8,  7,  1,\n",
       "           9, 11, 15,  2, 15,  8, 14, 18, 13, 15, 18,  4, 13,  8,  9,  3, 16, 12,\n",
       "           5, 15, 14,  4,  6, 15,  3,  9],\n",
       "         [18, 13,  2,  1, 14,  4, 10, 13, 11,  1,  9,  1,  8, 14, 15,  3,  6,  1,\n",
       "          15, 16,  8,  7,  4, 16, 11, 13,  4, 17,  7, 15, 17,  3,  6,  3, 17,  4,\n",
       "           8,  4, 13,  6, 14, 16, 12,  7,  0, 15, 13, 17, 14, 18,  0,  6,  8,  4,\n",
       "           1, 16, 17,  4, 18,  3, 16, 14]]),\n",
       " tensor([0., 0., 0., 0., 0., 0., 0., 0., 0., 0., 0., 0., 0., 0., 0., 0., 0., 0., 0.]))"
      ]
     },
     "execution_count": 34,
     "metadata": {},
     "output_type": "execute_result"
    }
   ],
   "source": [
    "edge_attr, edge_index, candidate_idxs"
   ]
  },
  {
   "cell_type": "code",
   "execution_count": 35,
   "id": "3bcb7892-a43e-4d63-ba0d-fd52651899a2",
   "metadata": {},
   "outputs": [
    {
     "data": {
      "text/plain": [
       "tensor([[-0.2146],\n",
       "        [-0.9191],\n",
       "        [-0.8782],\n",
       "        [-1.1970],\n",
       "        [-0.9092],\n",
       "        [-0.8147],\n",
       "        [ 0.8120],\n",
       "        [-2.2541],\n",
       "        [ 1.8128],\n",
       "        [-0.2835],\n",
       "        [ 0.9891],\n",
       "        [-1.4591],\n",
       "        [ 1.1879],\n",
       "        [-0.0368],\n",
       "        [-0.3077],\n",
       "        [-0.5080],\n",
       "        [ 0.9565],\n",
       "        [-0.9494],\n",
       "        [-0.7184],\n",
       "        [-0.5932],\n",
       "        [ 2.5476],\n",
       "        [ 0.5895],\n",
       "        [-0.0840],\n",
       "        [ 0.5191],\n",
       "        [ 0.7681],\n",
       "        [-0.9822],\n",
       "        [-1.2138],\n",
       "        [-0.4468],\n",
       "        [ 0.9486],\n",
       "        [ 0.3619],\n",
       "        [-1.5611],\n",
       "        [-0.1652],\n",
       "        [-0.7870],\n",
       "        [ 1.2597],\n",
       "        [ 1.9105],\n",
       "        [-0.3842],\n",
       "        [-0.2997],\n",
       "        [-0.8937],\n",
       "        [-1.8049],\n",
       "        [-0.2713],\n",
       "        [ 0.7053],\n",
       "        [-0.3551],\n",
       "        [ 0.8199],\n",
       "        [ 1.5494],\n",
       "        [-1.0841],\n",
       "        [ 0.9501],\n",
       "        [-0.4977],\n",
       "        [ 0.7267],\n",
       "        [-0.0595],\n",
       "        [ 1.2819],\n",
       "        [ 0.4624],\n",
       "        [ 0.4901],\n",
       "        [-1.4342],\n",
       "        [-1.7923],\n",
       "        [-0.3087],\n",
       "        [ 0.4151],\n",
       "        [ 0.4476],\n",
       "        [-0.1755],\n",
       "        [ 1.1100],\n",
       "        [ 1.7979],\n",
       "        [ 0.1836],\n",
       "        [-0.2040]], grad_fn=<AddmmBackward0>)"
      ]
     },
     "execution_count": 35,
     "metadata": {},
     "output_type": "execute_result"
    }
   ],
   "source": [
    "model(edge_attr, edge_index, candidate_idxs)"
   ]
  },
  {
   "cell_type": "code",
   "execution_count": null,
   "id": "8b533403-193e-47b8-8978-7092c77c1957",
   "metadata": {},
   "outputs": [],
   "source": []
  }
 ],
 "metadata": {
  "kernelspec": {
   "display_name": "Python 3 (ipykernel)",
   "language": "python",
   "name": "python3"
  },
  "language_info": {
   "codemirror_mode": {
    "name": "ipython",
    "version": 3
   },
   "file_extension": ".py",
   "mimetype": "text/x-python",
   "name": "python",
   "nbconvert_exporter": "python",
   "pygments_lexer": "ipython3",
   "version": "3.12.8"
  }
 },
 "nbformat": 4,
 "nbformat_minor": 5
}
