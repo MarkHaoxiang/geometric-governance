{
 "cells": [
  {
   "cell_type": "code",
   "execution_count": 1,
   "metadata": {},
   "outputs": [
    {
     "name": "stderr",
     "output_type": "stream",
     "text": [
      "100%|██████████| 100000/100000 [00:59<00:00, 1692.39it/s]\n"
     ]
    }
   ],
   "source": [
    "import numpy as np\n",
    "import torch\n",
    "\n",
    "from torch_geometric.loader import DataLoader\n",
    "from torch_scatter import scatter_max\n",
    "from tqdm import tqdm\n",
    "\n",
    "from geometric_governance.util import RangeOrValue, get_value\n",
    "from geometric_governance.data import (\n",
    "    generate_synthetic_election,\n",
    "    get_scoring_function_winners,\n",
    ")\n",
    "from geometric_governance.model import MessagePassingElectionModel\n",
    "\n",
    "NUM_VOTERS_RANGE = (3, 50)\n",
    "NUM_CANDIDATES_RANGE = (2, 10)\n",
    "DATASET_SIZE = 100_000\n",
    "# DATASET_SIZE = 100\n",
    "TRAIN_BATCH_SIZE = 128\n",
    "TRAIN_NUM_EPOCHS = 20\n",
    "\n",
    "\n",
    "def generate_plurality_bipartite_dataset(\n",
    "    dataset_size: int,\n",
    "    num_voters_range: RangeOrValue,\n",
    "    num_candidates_range: RangeOrValue,\n",
    "    dataloader_batch_size: int,\n",
    "    top_k_candidates: int,\n",
    "    rng: np.random.Generator,\n",
    "):\n",
    "    graphs = []\n",
    "    for _ in tqdm(range(dataset_size)):\n",
    "        num_voters = get_value(num_voters_range, rng)\n",
    "        num_candidates = get_value(num_candidates_range, rng)\n",
    "\n",
    "        election_data = generate_synthetic_election(\n",
    "            num_voters=num_voters, num_candidates=num_candidates, rng=rng\n",
    "        )\n",
    "\n",
    "        graph = election_data.to_bipartite_graph(top_k_candidates, vote_data=\"ranking\")\n",
    "\n",
    "        #  Add plurality votes\n",
    "        votes = graph.edge_index[1, (graph.edge_attr == 1).squeeze()]\n",
    "        votes -= num_voters  # Index offset\n",
    "        vote_count = torch.bincount(votes, minlength=num_candidates)\n",
    "\n",
    "        winners = get_scoring_function_winners(vote_count)\n",
    "\n",
    "        graph.y = winners\n",
    "        graphs.append(graph)\n",
    "    dataloader = DataLoader(graphs, batch_size=dataloader_batch_size, shuffle=True)\n",
    "    return dataloader\n",
    "\n",
    "\n",
    "dataloader = generate_plurality_bipartite_dataset(\n",
    "    dataset_size=DATASET_SIZE,\n",
    "    num_voters_range=NUM_VOTERS_RANGE,\n",
    "    num_candidates_range=NUM_CANDIDATES_RANGE,\n",
    "    dataloader_batch_size=TRAIN_BATCH_SIZE,\n",
    "    top_k_candidates=5,\n",
    "    rng=np.random.default_rng(seed=42),\n",
    ")"
   ]
  },
  {
   "cell_type": "code",
   "execution_count": 2,
   "metadata": {},
   "outputs": [
    {
     "name": "stdout",
     "output_type": "stream",
     "text": [
      "Epoch 0 Loss 0.3541716648184735\n",
      "Epoch 1 Loss 0.24235563782398659\n",
      "Epoch 2 Loss 0.21295064097017888\n",
      "Epoch 3 Loss 0.19801104890749507\n",
      "Epoch 4 Loss 0.1952277642515157\n",
      "Epoch 5 Loss 0.19525823213846025\n",
      "Epoch 6 Loss 0.19314134979854003\n",
      "Epoch 7 Loss 0.1927161123937048\n",
      "Epoch 8 Loss 0.19230390915556636\n",
      "Epoch 9 Loss 0.19221597720804573\n",
      "Epoch 10 Loss 0.191641922487551\n",
      "Epoch 11 Loss 0.19172178432726494\n",
      "Epoch 12 Loss 0.19165738712033958\n",
      "Epoch 13 Loss 0.19126175319694955\n",
      "Epoch 14 Loss 0.19147559205341674\n",
      "Epoch 15 Loss 0.19116606478534087\n",
      "Epoch 16 Loss 0.1911609638863436\n",
      "Epoch 17 Loss 0.19116424377102528\n",
      "Epoch 18 Loss 0.19112650949574644\n",
      "Epoch 19 Loss 0.1911894856663921\n"
     ]
    }
   ],
   "source": [
    "model = MessagePassingElectionModel(edge_dim=1)\n",
    "optim = torch.optim.Adam(model.parameters())\n",
    "\n",
    "for epoch in range(TRAIN_NUM_EPOCHS):\n",
    "    total_loss = 0\n",
    "    for data in dataloader:\n",
    "        optim.zero_grad()\n",
    "        out = model(data)\n",
    "        loss = -(out * data.y).sum() / TRAIN_BATCH_SIZE\n",
    "        loss.backward()\n",
    "        optim.step()\n",
    "        total_loss += loss.item()\n",
    "    print(f\"Epoch {epoch} Loss {total_loss / len(dataloader)}\")"
   ]
  },
  {
   "cell_type": "code",
   "execution_count": 3,
   "metadata": {},
   "outputs": [
    {
     "name": "stderr",
     "output_type": "stream",
     "text": [
      "100%|██████████| 1000/1000 [00:01<00:00, 524.64it/s]\n"
     ]
    },
    {
     "name": "stdout",
     "output_type": "stream",
     "text": [
      "Accuracy: 0.846 with 100 voters\n"
     ]
    }
   ],
   "source": [
    "EVAL_NUM_VOTERS = 100\n",
    "EVAL_NUM_CANDIDATES = 20\n",
    "EVAL_DATASET_SIZE = 1_000\n",
    "\n",
    "eval_dataloader = generate_plurality_bipartite_dataset(\n",
    "    dataset_size=EVAL_DATASET_SIZE,\n",
    "    num_voters_range=EVAL_NUM_VOTERS,\n",
    "    num_candidates_range=EVAL_NUM_CANDIDATES,\n",
    "    dataloader_batch_size=TRAIN_BATCH_SIZE,\n",
    "    top_k_candidates=5,\n",
    "    rng=np.random.default_rng(seed=16180),\n",
    ")\n",
    "\n",
    "model.eval()\n",
    "correct = 0\n",
    "total = 0\n",
    "\n",
    "with torch.no_grad():\n",
    "    for data in eval_dataloader:\n",
    "        out = model(data)\n",
    "        candidate_idxs = data.x[:, 1] == 1\n",
    "        batch_idxs = data.batch[candidate_idxs]\n",
    "        _, predicted = scatter_max(out, batch_idxs)\n",
    "        _, predicted_ground = scatter_max(data.y, batch_idxs)\n",
    "        total += predicted_ground.shape[0]\n",
    "        correct += (predicted == predicted_ground).sum().item()\n",
    "\n",
    "accuracy = correct / total\n",
    "print(f\"Accuracy: {accuracy} with {EVAL_NUM_VOTERS} voters\")"
   ]
  }
 ],
 "metadata": {
  "kernelspec": {
   "display_name": ".venv",
   "language": "python",
   "name": "python3"
  },
  "language_info": {
   "codemirror_mode": {
    "name": "ipython",
    "version": 3
   },
   "file_extension": ".py",
   "mimetype": "text/x-python",
   "name": "python",
   "nbconvert_exporter": "python",
   "pygments_lexer": "ipython3",
   "version": "3.12.8"
  }
 },
 "nbformat": 4,
 "nbformat_minor": 4
}
