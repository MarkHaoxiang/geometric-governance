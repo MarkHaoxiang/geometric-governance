{
 "cells": [
  {
   "cell_type": "code",
   "execution_count": 3,
   "metadata": {},
   "outputs": [
    {
     "name": "stderr",
     "output_type": "stream",
     "text": [
      "100%|████████████████████████████████████████████████████████████████████████████████████████████████████████████████████████████████████████████| 100000/100000 [00:42<00:00, 2331.11it/s]\n"
     ]
    }
   ],
   "source": [
    "import numpy as np\n",
    "import torch\n",
    "\n",
    "from torch_geometric.loader import DataLoader\n",
    "from torch_scatter import scatter_max\n",
    "from tqdm import tqdm\n",
    "\n",
    "from geometric_governance.util import RangeOrValue, get_value\n",
    "from geometric_governance.data import (\n",
    "    generate_synthetic_election,\n",
    "    get_scoring_function_winners,\n",
    ")\n",
    "from geometric_governance.model import MessagePassingElectionModel\n",
    "\n",
    "NUM_VOTERS_RANGE = (3, 50)\n",
    "NUM_CANDIDATES_RANGE = (2, 10)\n",
    "DATASET_SIZE = 100_000\n",
    "# DATASET_SIZE = 100\n",
    "TRAIN_BATCH_SIZE = 128\n",
    "TRAIN_NUM_EPOCHS = 20\n",
    "\n",
    "\n",
    "def generate_plurality_bipartite_dataset(\n",
    "    dataset_size: int,\n",
    "    num_voters_range: RangeOrValue,\n",
    "    num_candidates_range: RangeOrValue,\n",
    "    dataloader_batch_size: int,\n",
    "    top_k_candidates: int,\n",
    "    rng: np.random.Generator,\n",
    "):\n",
    "    graphs = []\n",
    "    for _ in tqdm(range(dataset_size)):\n",
    "        num_voters = get_value(num_voters_range, rng)\n",
    "        num_candidates = get_value(num_candidates_range, rng)\n",
    "\n",
    "        election_data = generate_synthetic_election(\n",
    "            num_voters=num_voters, num_candidates=num_candidates, rng=rng\n",
    "        )\n",
    "\n",
    "        graph = election_data.to_bipartite_graph(top_k_candidates, vote_data=\"ranking\")\n",
    "\n",
    "        #  Add plurality votes\n",
    "        votes = graph.edge_index[1, (graph.edge_attr == 1).squeeze()]\n",
    "        votes -= num_voters  # Index offset\n",
    "        vote_count = torch.bincount(votes, minlength=num_candidates)\n",
    "\n",
    "        winners = get_scoring_function_winners(vote_count)\n",
    "\n",
    "        graph.y = winners\n",
    "        graphs.append(graph)\n",
    "    dataloader = DataLoader(graphs, batch_size=dataloader_batch_size, shuffle=True)\n",
    "    return dataloader\n",
    "\n",
    "\n",
    "dataloader = generate_plurality_bipartite_dataset(\n",
    "    dataset_size=DATASET_SIZE,\n",
    "    num_voters_range=NUM_VOTERS_RANGE,\n",
    "    num_candidates_range=NUM_CANDIDATES_RANGE,\n",
    "    dataloader_batch_size=TRAIN_BATCH_SIZE,\n",
    "    top_k_candidates=5,\n",
    "    rng=np.random.default_rng(seed=42),\n",
    ")"
   ]
  },
  {
   "cell_type": "code",
   "execution_count": 4,
   "metadata": {},
   "outputs": [
    {
     "name": "stdout",
     "output_type": "stream",
     "text": [
      "Epoch 0 Loss 0.5428374072589228\n",
      "Epoch 1 Loss 0.2259630191251826\n",
      "Epoch 2 Loss 0.20822207604432502\n",
      "Epoch 3 Loss 0.2014854596856305\n",
      "Epoch 4 Loss 0.19901462398050235\n",
      "Epoch 5 Loss 0.19678573989692857\n",
      "Epoch 6 Loss 0.1954447927853793\n",
      "Epoch 7 Loss 0.19457347472400768\n",
      "Epoch 8 Loss 0.19362757311147802\n",
      "Epoch 9 Loss 0.19327943839723496\n",
      "Epoch 10 Loss 0.19288148615232972\n",
      "Epoch 11 Loss 0.19269865960873606\n",
      "Epoch 12 Loss 0.19210284243306847\n",
      "Epoch 13 Loss 0.19202847542512752\n",
      "Epoch 14 Loss 0.19165232108758234\n",
      "Epoch 15 Loss 0.19155316286817994\n",
      "Epoch 16 Loss 0.19143743665360125\n",
      "Epoch 17 Loss 0.19152188348724408\n",
      "Epoch 18 Loss 0.1915521417480067\n",
      "Epoch 19 Loss 0.19131086083591137\n"
     ]
    }
   ],
   "source": [
    "model = MessagePassingElectionModel(edge_dim=1)\n",
    "optim = torch.optim.Adam(model.parameters())\n",
    "\n",
    "for epoch in range(TRAIN_NUM_EPOCHS):\n",
    "    total_loss = 0\n",
    "    for data in dataloader:\n",
    "        optim.zero_grad()\n",
    "        out = model(data)\n",
    "        loss = -(out * data.y).sum() / TRAIN_BATCH_SIZE\n",
    "        loss.backward()\n",
    "        optim.step()\n",
    "        total_loss += loss.item()\n",
    "    print(f\"Epoch {epoch} Loss {total_loss / len(dataloader)}\")"
   ]
  },
  {
   "cell_type": "code",
   "execution_count": 5,
   "metadata": {},
   "outputs": [],
   "source": [
    "# Save the model to be used in robust_voting.ipynb\n",
    "torch.save(model.state_dict(), \"election_model\")"
   ]
  },
  {
   "cell_type": "code",
   "execution_count": null,
   "metadata": {},
   "outputs": [],
   "source": [
    "EVAL_NUM_VOTERS = 100\n",
    "EVAL_NUM_CANDIDATES = 20\n",
    "EVAL_DATASET_SIZE = 1_000\n",
    "\n",
    "eval_dataloader = generate_plurality_bipartite_dataset(\n",
    "    dataset_size=EVAL_DATASET_SIZE,\n",
    "    num_voters_range=EVAL_NUM_VOTERS,\n",
    "    num_candidates_range=EVAL_NUM_CANDIDATES,\n",
    "    dataloader_batch_size=TRAIN_BATCH_SIZE,\n",
    "    top_k_candidates=5,\n",
    "    rng=np.random.default_rng(seed=16180),\n",
    ")\n",
    "\n",
    "model.eval()\n",
    "correct = 0\n",
    "total = 0\n",
    "\n",
    "with torch.no_grad():\n",
    "    for data in eval_dataloader:\n",
    "        out = model(data)\n",
    "        candidate_idxs = data.x[:, 1] == 1\n",
    "        batch_idxs = data.batch[candidate_idxs]\n",
    "        _, predicted = scatter_max(out, batch_idxs)\n",
    "        _, predicted_ground = scatter_max(data.y, batch_idxs)\n",
    "        total += predicted_ground.shape[0]\n",
    "        correct += (predicted == predicted_ground).sum().item()\n",
    "\n",
    "accuracy = correct / total\n",
    "print(f\"Accuracy: {accuracy} with {EVAL_NUM_VOTERS} voters\")"
   ]
  }
 ],
 "metadata": {
  "kernelspec": {
   "display_name": "Python 3 (ipykernel)",
   "language": "python",
   "name": "python3"
  },
  "language_info": {
   "codemirror_mode": {
    "name": "ipython",
    "version": 3
   },
   "file_extension": ".py",
   "mimetype": "text/x-python",
   "name": "python",
   "nbconvert_exporter": "python",
   "pygments_lexer": "ipython3",
   "version": "3.12.8"
  }
 },
 "nbformat": 4,
 "nbformat_minor": 4
}
