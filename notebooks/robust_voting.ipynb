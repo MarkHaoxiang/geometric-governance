{
 "cells": [
  {
   "cell_type": "code",
   "execution_count": 14,
   "id": "55894de5-26da-4995-9a83-f4958a404185",
   "metadata": {},
   "outputs": [],
   "source": [
    "import numpy as np\n",
    "import torch\n",
    "import torch.nn.functional as F\n",
    "import torch.nn as nn\n",
    "from torch.utils.data import Dataset, DataLoader\n",
    "from torch_geometric.nn import MLP, DeepSetsAggregation, conv\n",
    "from torch_geometric.data import Batch, Data\n",
    "from tqdm import tqdm\n",
    "\n",
    "from geometric_governance.util import RangeOrValue, get_value\n",
    "from geometric_governance.data import generate_synthetic_election, ElectionData\n",
    "from geometric_governance.model import MessagePassingElectionModel"
   ]
  },
  {
   "cell_type": "code",
   "execution_count": 2,
   "id": "16f8b77c-a38b-4959-aa80-2ac96c85a1a9",
   "metadata": {},
   "outputs": [],
   "source": [
    "NUM_VOTERS_RANGE = (3, 50)\n",
    "NUM_CANDIDATES_RANGE = 5\n",
    "TRAIN_BATCH_SIZE = 128\n",
    "TRAIN_NUM_EPOCHS = 1_000"
   ]
  },
  {
   "cell_type": "code",
   "execution_count": 3,
   "id": "6f4ca21a-54bd-442a-b755-705ca2e4670a",
   "metadata": {},
   "outputs": [
    {
     "name": "stdout",
     "output_type": "stream",
     "text": [
      "tensor([[0, 0, 0, 0, 0, 1, 1, 1, 1, 1, 2, 2, 2, 2, 2, 3, 3, 3, 3, 3, 4, 4, 4, 4,\n",
      "         4],\n",
      "        [0, 1, 2, 3, 4, 0, 1, 2, 3, 4, 0, 1, 2, 3, 4, 0, 1, 2, 3, 4, 0, 1, 2, 3,\n",
      "         4]])\n"
     ]
    }
   ],
   "source": [
    "def fully_connected_directed_edge_index(n):\n",
    "    row, col = torch.meshgrid(torch.arange(n), torch.arange(n), indexing='ij')\n",
    "    edge_index = torch.stack([row.flatten(), col.flatten()], dim=0)\n",
    "    return edge_index\n",
    "\n",
    "print(fully_connected_directed_edge_index(5))"
   ]
  },
  {
   "cell_type": "code",
   "execution_count": 4,
   "id": "db5c62ea-6e0f-4953-8aff-dcec0acd7d11",
   "metadata": {},
   "outputs": [],
   "source": [
    "# StrategyModel is responsible for transforming voter utilities\n",
    "class StrategyModel(nn.Module):\n",
    "    def __init__(self, num_candidates: int, embedding_size: int = 128):\n",
    "        super().__init__()\n",
    "        self.reveal_utility = nn.Linear(num_candidates, embedding_size)\n",
    "        self.gnn_communicate = nn.ModuleList([conv.GATv2Conv(in_channels=embedding_size, out_channels=embedding_size, add_self_loops=True) for _ in range(5)])\n",
    "        self.aggregate = nn.Linear(embedding_size, num_candidates)\n",
    "\n",
    "    def forward(self, x):\n",
    "        x = self.reveal_utility(x)\n",
    "        revealed_utilities = x.clone()\n",
    "\n",
    "        edge_index = fully_connected_directed_edge_index(x.size(-2))\n",
    "        for conv in self.gnn_communicate:\n",
    "            x = conv(x, edge_index)\n",
    "\n",
    "        x = self.aggregate(revealed_utilities + x)\n",
    "        x = F.softmax(x, dim=-1)\n",
    "\n",
    "        return x"
   ]
  },
  {
   "cell_type": "code",
   "execution_count": 5,
   "id": "ad3d9f33-b1cd-4a14-a793-22dada9e7e7e",
   "metadata": {},
   "outputs": [],
   "source": [
    "strategy_model = StrategyModel(NUM_CANDIDATES_RANGE)\n",
    "strategy_model.train()\n",
    "strategy_optim = torch.optim.Adam(strategy_model.parameters())"
   ]
  },
  {
   "cell_type": "code",
   "execution_count": 6,
   "id": "b37cc52d-b0dd-43b9-90a1-c6dfe611611d",
   "metadata": {},
   "outputs": [
    {
     "data": {
      "text/plain": [
       "MessagePassingElectionModel(\n",
       "  (convs): ModuleList(\n",
       "    (0-3): 4 x MessagePassingElectionLayer()\n",
       "  )\n",
       ")"
      ]
     },
     "execution_count": 6,
     "metadata": {},
     "output_type": "execute_result"
    }
   ],
   "source": [
    "election_model = MessagePassingElectionModel(edge_dim=1)\n",
    "election_model.load_state_dict(torch.load(\"election_model\", weights_only=True))\n",
    "election_model.eval()"
   ]
  },
  {
   "cell_type": "code",
   "execution_count": 17,
   "id": "52de1d53-eec1-4576-9c98-5e8396614963",
   "metadata": {},
   "outputs": [],
   "source": [
    "def utility_matrix_to_graph(U):\n",
    "    \"\"\"\n",
    "    Converts a utility matrix U (Voters x Candidates) into a PyTorch Geometric Data object.\n",
    "    \n",
    "    Parameters:\n",
    "        U (torch.Tensor): A tensor of shape (..., num_voters, num_candidates).\n",
    "    \n",
    "    Returns:\n",
    "        Data: A PyTorch Geometric Data object.\n",
    "    \"\"\"\n",
    "    num_voters, num_candidates = U.size(-2), U.size(-1)\n",
    "    \n",
    "    # Node features: one-hot encoding for voters and candidates\n",
    "    x_voters = torch.tensor([[1, 0]] * num_voters, dtype=torch.float)\n",
    "    x_candidates = torch.tensor([[0, 1]] * num_candidates, dtype=torch.float)\n",
    "    x = torch.cat([x_voters, x_candidates], dim=0)\n",
    "    \n",
    "    # Create edges\n",
    "    voter_indices = torch.arange(num_voters).repeat_interleave(num_candidates)\n",
    "    candidate_indices = torch.arange(num_candidates).repeat(num_voters)\n",
    "    \n",
    "    # Shift candidate indices to match node indexing\n",
    "    candidate_indices += num_voters\n",
    "    \n",
    "    edge_index = torch.stack([voter_indices, candidate_indices], dim=0)\n",
    "\n",
    "    # Edge attributes (utility values)\n",
    "    edge_attr = U.flatten()\n",
    "\n",
    "    # Candidate indices\n",
    "    candidate_idxs = x[:, 1] == 1\n",
    "\n",
    "    return Data(x=x, edge_index=edge_index, edge_attr=edge_attr, candidate_idxs=candidate_idxs)"
   ]
  },
  {
   "cell_type": "code",
   "execution_count": 21,
   "id": "9d553936-592e-4f91-8119-d37be58ebfc3",
   "metadata": {},
   "outputs": [
    {
     "name": "stderr",
     "output_type": "stream",
     "text": [
      "  0%|                                                                                                                                                                | 0/2 [00:00<?, ?it/s]"
     ]
    },
    {
     "name": "stdout",
     "output_type": "stream",
     "text": [
      "Data(x=[12, 2], edge_index=[2, 35], edge_attr=[35], candidate_idxs=[12])\n",
      "tensor([[1., 0.],\n",
      "        [1., 0.],\n",
      "        [1., 0.],\n",
      "        [1., 0.],\n",
      "        [1., 0.],\n",
      "        [1., 0.],\n",
      "        [1., 0.],\n",
      "        [0., 1.],\n",
      "        [0., 1.],\n",
      "        [0., 1.],\n",
      "        [0., 1.],\n",
      "        [0., 1.]])\n",
      "torch.Size([2, 35])\n",
      "torch.Size([35])\n",
      "tensor([False, False, False, False, False, False, False,  True,  True,  True,\n",
      "         True,  True])\n"
     ]
    },
    {
     "name": "stderr",
     "output_type": "stream",
     "text": [
      "\n"
     ]
    },
    {
     "ename": "RuntimeError",
     "evalue": "Tensors must have same number of dimensions: got 2 and 1",
     "output_type": "error",
     "traceback": [
      "\u001b[0;31m---------------------------------------------------------------------------\u001b[0m",
      "\u001b[0;31mRuntimeError\u001b[0m                              Traceback (most recent call last)",
      "Cell \u001b[0;32mIn[21], line 38\u001b[0m\n\u001b[1;32m     35\u001b[0m \u001b[38;5;66;03m# Pass through frozen election_model\u001b[39;00m\n\u001b[1;32m     36\u001b[0m graph \u001b[38;5;241m=\u001b[39m Batch\u001b[38;5;241m.\u001b[39mfrom_data_list([bipartite_graph])\n\u001b[0;32m---> 38\u001b[0m \u001b[38;5;28mprint\u001b[39m(\u001b[43melection_model\u001b[49m\u001b[43m(\u001b[49m\u001b[43mgraph\u001b[49m\u001b[43m)\u001b[49m)\n",
      "File \u001b[0;32m~/Projects/geometric-governance/.venv/lib/python3.12/site-packages/torch/nn/modules/module.py:1739\u001b[0m, in \u001b[0;36mModule._wrapped_call_impl\u001b[0;34m(self, *args, **kwargs)\u001b[0m\n\u001b[1;32m   1737\u001b[0m     \u001b[38;5;28;01mreturn\u001b[39;00m \u001b[38;5;28mself\u001b[39m\u001b[38;5;241m.\u001b[39m_compiled_call_impl(\u001b[38;5;241m*\u001b[39margs, \u001b[38;5;241m*\u001b[39m\u001b[38;5;241m*\u001b[39mkwargs)  \u001b[38;5;66;03m# type: ignore[misc]\u001b[39;00m\n\u001b[1;32m   1738\u001b[0m \u001b[38;5;28;01melse\u001b[39;00m:\n\u001b[0;32m-> 1739\u001b[0m     \u001b[38;5;28;01mreturn\u001b[39;00m \u001b[38;5;28;43mself\u001b[39;49m\u001b[38;5;241;43m.\u001b[39;49m\u001b[43m_call_impl\u001b[49m\u001b[43m(\u001b[49m\u001b[38;5;241;43m*\u001b[39;49m\u001b[43margs\u001b[49m\u001b[43m,\u001b[49m\u001b[43m \u001b[49m\u001b[38;5;241;43m*\u001b[39;49m\u001b[38;5;241;43m*\u001b[39;49m\u001b[43mkwargs\u001b[49m\u001b[43m)\u001b[49m\n",
      "File \u001b[0;32m~/Projects/geometric-governance/.venv/lib/python3.12/site-packages/torch/nn/modules/module.py:1750\u001b[0m, in \u001b[0;36mModule._call_impl\u001b[0;34m(self, *args, **kwargs)\u001b[0m\n\u001b[1;32m   1745\u001b[0m \u001b[38;5;66;03m# If we don't have any hooks, we want to skip the rest of the logic in\u001b[39;00m\n\u001b[1;32m   1746\u001b[0m \u001b[38;5;66;03m# this function, and just call forward.\u001b[39;00m\n\u001b[1;32m   1747\u001b[0m \u001b[38;5;28;01mif\u001b[39;00m \u001b[38;5;129;01mnot\u001b[39;00m (\u001b[38;5;28mself\u001b[39m\u001b[38;5;241m.\u001b[39m_backward_hooks \u001b[38;5;129;01mor\u001b[39;00m \u001b[38;5;28mself\u001b[39m\u001b[38;5;241m.\u001b[39m_backward_pre_hooks \u001b[38;5;129;01mor\u001b[39;00m \u001b[38;5;28mself\u001b[39m\u001b[38;5;241m.\u001b[39m_forward_hooks \u001b[38;5;129;01mor\u001b[39;00m \u001b[38;5;28mself\u001b[39m\u001b[38;5;241m.\u001b[39m_forward_pre_hooks\n\u001b[1;32m   1748\u001b[0m         \u001b[38;5;129;01mor\u001b[39;00m _global_backward_pre_hooks \u001b[38;5;129;01mor\u001b[39;00m _global_backward_hooks\n\u001b[1;32m   1749\u001b[0m         \u001b[38;5;129;01mor\u001b[39;00m _global_forward_hooks \u001b[38;5;129;01mor\u001b[39;00m _global_forward_pre_hooks):\n\u001b[0;32m-> 1750\u001b[0m     \u001b[38;5;28;01mreturn\u001b[39;00m \u001b[43mforward_call\u001b[49m\u001b[43m(\u001b[49m\u001b[38;5;241;43m*\u001b[39;49m\u001b[43margs\u001b[49m\u001b[43m,\u001b[49m\u001b[43m \u001b[49m\u001b[38;5;241;43m*\u001b[39;49m\u001b[38;5;241;43m*\u001b[39;49m\u001b[43mkwargs\u001b[49m\u001b[43m)\u001b[49m\n\u001b[1;32m   1752\u001b[0m result \u001b[38;5;241m=\u001b[39m \u001b[38;5;28;01mNone\u001b[39;00m\n\u001b[1;32m   1753\u001b[0m called_always_called_hooks \u001b[38;5;241m=\u001b[39m \u001b[38;5;28mset\u001b[39m()\n",
      "File \u001b[0;32m~/Projects/geometric-governance/geometric_governance/model.py:100\u001b[0m, in \u001b[0;36mMessagePassingElectionModel.forward\u001b[0;34m(self, data)\u001b[0m\n\u001b[1;32m     98\u001b[0m x \u001b[38;5;241m=\u001b[39m F\u001b[38;5;241m.\u001b[39mlinear(data\u001b[38;5;241m.\u001b[39mx, h(\u001b[38;5;28mself\u001b[39m\u001b[38;5;241m.\u001b[39mlin_in_weights), \u001b[38;5;28mself\u001b[39m\u001b[38;5;241m.\u001b[39mlin_in_bias)\n\u001b[1;32m     99\u001b[0m \u001b[38;5;28;01mfor\u001b[39;00m conv \u001b[38;5;129;01min\u001b[39;00m \u001b[38;5;28mself\u001b[39m\u001b[38;5;241m.\u001b[39mconvs:\n\u001b[0;32m--> 100\u001b[0m     x \u001b[38;5;241m=\u001b[39m x \u001b[38;5;241m+\u001b[39m \u001b[43mconv\u001b[49m\u001b[43m(\u001b[49m\u001b[43mx\u001b[49m\u001b[43m,\u001b[49m\u001b[43m \u001b[49m\u001b[43mdata\u001b[49m\u001b[38;5;241;43m.\u001b[39;49m\u001b[43medge_index\u001b[49m\u001b[43m,\u001b[49m\u001b[43m \u001b[49m\u001b[43mdata\u001b[49m\u001b[38;5;241;43m.\u001b[39;49m\u001b[43medge_attr\u001b[49m\u001b[43m)\u001b[49m\n\u001b[1;32m    101\u001b[0m logits \u001b[38;5;241m=\u001b[39m F\u001b[38;5;241m.\u001b[39mlinear(\n\u001b[1;32m    102\u001b[0m     x[data\u001b[38;5;241m.\u001b[39mcandidate_idxs], h(\u001b[38;5;28mself\u001b[39m\u001b[38;5;241m.\u001b[39mlin_out_weights), \u001b[38;5;28mself\u001b[39m\u001b[38;5;241m.\u001b[39mlin_out_bias\n\u001b[1;32m    103\u001b[0m )\u001b[38;5;241m.\u001b[39msqueeze(dim\u001b[38;5;241m=\u001b[39m\u001b[38;5;241m-\u001b[39m\u001b[38;5;241m1\u001b[39m)\n\u001b[1;32m    104\u001b[0m out \u001b[38;5;241m=\u001b[39m scatter_log_softmax(logits, data\u001b[38;5;241m.\u001b[39mbatch[data\u001b[38;5;241m.\u001b[39mcandidate_idxs])\n",
      "File \u001b[0;32m~/Projects/geometric-governance/.venv/lib/python3.12/site-packages/torch/nn/modules/module.py:1739\u001b[0m, in \u001b[0;36mModule._wrapped_call_impl\u001b[0;34m(self, *args, **kwargs)\u001b[0m\n\u001b[1;32m   1737\u001b[0m     \u001b[38;5;28;01mreturn\u001b[39;00m \u001b[38;5;28mself\u001b[39m\u001b[38;5;241m.\u001b[39m_compiled_call_impl(\u001b[38;5;241m*\u001b[39margs, \u001b[38;5;241m*\u001b[39m\u001b[38;5;241m*\u001b[39mkwargs)  \u001b[38;5;66;03m# type: ignore[misc]\u001b[39;00m\n\u001b[1;32m   1738\u001b[0m \u001b[38;5;28;01melse\u001b[39;00m:\n\u001b[0;32m-> 1739\u001b[0m     \u001b[38;5;28;01mreturn\u001b[39;00m \u001b[38;5;28;43mself\u001b[39;49m\u001b[38;5;241;43m.\u001b[39;49m\u001b[43m_call_impl\u001b[49m\u001b[43m(\u001b[49m\u001b[38;5;241;43m*\u001b[39;49m\u001b[43margs\u001b[49m\u001b[43m,\u001b[49m\u001b[43m \u001b[49m\u001b[38;5;241;43m*\u001b[39;49m\u001b[38;5;241;43m*\u001b[39;49m\u001b[43mkwargs\u001b[49m\u001b[43m)\u001b[49m\n",
      "File \u001b[0;32m~/Projects/geometric-governance/.venv/lib/python3.12/site-packages/torch/nn/modules/module.py:1750\u001b[0m, in \u001b[0;36mModule._call_impl\u001b[0;34m(self, *args, **kwargs)\u001b[0m\n\u001b[1;32m   1745\u001b[0m \u001b[38;5;66;03m# If we don't have any hooks, we want to skip the rest of the logic in\u001b[39;00m\n\u001b[1;32m   1746\u001b[0m \u001b[38;5;66;03m# this function, and just call forward.\u001b[39;00m\n\u001b[1;32m   1747\u001b[0m \u001b[38;5;28;01mif\u001b[39;00m \u001b[38;5;129;01mnot\u001b[39;00m (\u001b[38;5;28mself\u001b[39m\u001b[38;5;241m.\u001b[39m_backward_hooks \u001b[38;5;129;01mor\u001b[39;00m \u001b[38;5;28mself\u001b[39m\u001b[38;5;241m.\u001b[39m_backward_pre_hooks \u001b[38;5;129;01mor\u001b[39;00m \u001b[38;5;28mself\u001b[39m\u001b[38;5;241m.\u001b[39m_forward_hooks \u001b[38;5;129;01mor\u001b[39;00m \u001b[38;5;28mself\u001b[39m\u001b[38;5;241m.\u001b[39m_forward_pre_hooks\n\u001b[1;32m   1748\u001b[0m         \u001b[38;5;129;01mor\u001b[39;00m _global_backward_pre_hooks \u001b[38;5;129;01mor\u001b[39;00m _global_backward_hooks\n\u001b[1;32m   1749\u001b[0m         \u001b[38;5;129;01mor\u001b[39;00m _global_forward_hooks \u001b[38;5;129;01mor\u001b[39;00m _global_forward_pre_hooks):\n\u001b[0;32m-> 1750\u001b[0m     \u001b[38;5;28;01mreturn\u001b[39;00m \u001b[43mforward_call\u001b[49m\u001b[43m(\u001b[49m\u001b[38;5;241;43m*\u001b[39;49m\u001b[43margs\u001b[49m\u001b[43m,\u001b[49m\u001b[43m \u001b[49m\u001b[38;5;241;43m*\u001b[39;49m\u001b[38;5;241;43m*\u001b[39;49m\u001b[43mkwargs\u001b[49m\u001b[43m)\u001b[49m\n\u001b[1;32m   1752\u001b[0m result \u001b[38;5;241m=\u001b[39m \u001b[38;5;28;01mNone\u001b[39;00m\n\u001b[1;32m   1753\u001b[0m called_always_called_hooks \u001b[38;5;241m=\u001b[39m \u001b[38;5;28mset\u001b[39m()\n",
      "File \u001b[0;32m~/Projects/geometric-governance/geometric_governance/model.py:39\u001b[0m, in \u001b[0;36mMessagePassingElectionLayer.forward\u001b[0;34m(self, x, edge_index, edge_attr)\u001b[0m\n\u001b[1;32m     38\u001b[0m \u001b[38;5;28;01mdef\u001b[39;00m\u001b[38;5;250m \u001b[39m\u001b[38;5;21mforward\u001b[39m(\u001b[38;5;28mself\u001b[39m, x, edge_index, edge_attr):\n\u001b[0;32m---> 39\u001b[0m     out \u001b[38;5;241m=\u001b[39m \u001b[38;5;28;43mself\u001b[39;49m\u001b[38;5;241;43m.\u001b[39;49m\u001b[43mpropagate\u001b[49m\u001b[43m(\u001b[49m\u001b[43medge_index\u001b[49m\u001b[43m,\u001b[49m\u001b[43m \u001b[49m\u001b[43mx\u001b[49m\u001b[38;5;241;43m=\u001b[39;49m\u001b[43mx\u001b[49m\u001b[43m,\u001b[49m\u001b[43m \u001b[49m\u001b[43medge_attr\u001b[49m\u001b[38;5;241;43m=\u001b[39;49m\u001b[43medge_attr\u001b[49m\u001b[43m)\u001b[49m\n\u001b[1;32m     40\u001b[0m     \u001b[38;5;28;01mreturn\u001b[39;00m out\n",
      "File \u001b[0;32m/var/folders/jp/9bpnwh8d16q6k_vcd_9q1bqw0000gn/T/geometric_governance.model_MessagePassingElectionLayer_propagate_r4n_vdgq.py:203\u001b[0m, in \u001b[0;36mpropagate\u001b[0;34m(self, edge_index, x, edge_attr, size)\u001b[0m\n\u001b[1;32m    193\u001b[0m             kwargs \u001b[38;5;241m=\u001b[39m CollectArgs(\n\u001b[1;32m    194\u001b[0m                 x_i\u001b[38;5;241m=\u001b[39mhook_kwargs[\u001b[38;5;124m'\u001b[39m\u001b[38;5;124mx_i\u001b[39m\u001b[38;5;124m'\u001b[39m],\n\u001b[1;32m    195\u001b[0m                 x_j\u001b[38;5;241m=\u001b[39mhook_kwargs[\u001b[38;5;124m'\u001b[39m\u001b[38;5;124mx_j\u001b[39m\u001b[38;5;124m'\u001b[39m],\n\u001b[0;32m   (...)\u001b[0m\n\u001b[1;32m    199\u001b[0m                 dim_size\u001b[38;5;241m=\u001b[39mkwargs\u001b[38;5;241m.\u001b[39mdim_size,\n\u001b[1;32m    200\u001b[0m             )\n\u001b[1;32m    201\u001b[0m \u001b[38;5;66;03m# End Message Forward Pre Hook #########################################\u001b[39;00m\n\u001b[0;32m--> 203\u001b[0m out \u001b[38;5;241m=\u001b[39m \u001b[38;5;28;43mself\u001b[39;49m\u001b[38;5;241;43m.\u001b[39;49m\u001b[43mmessage\u001b[49m\u001b[43m(\u001b[49m\n\u001b[1;32m    204\u001b[0m \u001b[43m    \u001b[49m\u001b[43mx_i\u001b[49m\u001b[38;5;241;43m=\u001b[39;49m\u001b[43mkwargs\u001b[49m\u001b[38;5;241;43m.\u001b[39;49m\u001b[43mx_i\u001b[49m\u001b[43m,\u001b[49m\n\u001b[1;32m    205\u001b[0m \u001b[43m    \u001b[49m\u001b[43mx_j\u001b[49m\u001b[38;5;241;43m=\u001b[39;49m\u001b[43mkwargs\u001b[49m\u001b[38;5;241;43m.\u001b[39;49m\u001b[43mx_j\u001b[49m\u001b[43m,\u001b[49m\n\u001b[1;32m    206\u001b[0m \u001b[43m    \u001b[49m\u001b[43medge_attr\u001b[49m\u001b[38;5;241;43m=\u001b[39;49m\u001b[43mkwargs\u001b[49m\u001b[38;5;241;43m.\u001b[39;49m\u001b[43medge_attr\u001b[49m\u001b[43m,\u001b[49m\n\u001b[1;32m    207\u001b[0m \u001b[43m\u001b[49m\u001b[43m)\u001b[49m\n\u001b[1;32m    209\u001b[0m \u001b[38;5;66;03m# Begin Message Forward Hook ###########################################\u001b[39;00m\n\u001b[1;32m    210\u001b[0m \u001b[38;5;28;01mif\u001b[39;00m \u001b[38;5;129;01mnot\u001b[39;00m torch\u001b[38;5;241m.\u001b[39mjit\u001b[38;5;241m.\u001b[39mis_scripting() \u001b[38;5;129;01mand\u001b[39;00m \u001b[38;5;129;01mnot\u001b[39;00m is_compiling():\n",
      "File \u001b[0;32m~/Projects/geometric-governance/geometric_governance/model.py:43\u001b[0m, in \u001b[0;36mMessagePassingElectionLayer.message\u001b[0;34m(self, x_i, x_j, edge_attr)\u001b[0m\n\u001b[1;32m     42\u001b[0m \u001b[38;5;28;01mdef\u001b[39;00m\u001b[38;5;250m \u001b[39m\u001b[38;5;21mmessage\u001b[39m(\u001b[38;5;28mself\u001b[39m, x_i, x_j, edge_attr):\n\u001b[0;32m---> 43\u001b[0m     msg \u001b[38;5;241m=\u001b[39m \u001b[43mtorch\u001b[49m\u001b[38;5;241;43m.\u001b[39;49m\u001b[43mcat\u001b[49m\u001b[43m(\u001b[49m\u001b[43m[\u001b[49m\u001b[43mx_i\u001b[49m\u001b[43m,\u001b[49m\u001b[43m \u001b[49m\u001b[43mx_j\u001b[49m\u001b[43m,\u001b[49m\u001b[43m \u001b[49m\u001b[43medge_attr\u001b[49m\u001b[43m]\u001b[49m\u001b[43m,\u001b[49m\u001b[43m \u001b[49m\u001b[43mdim\u001b[49m\u001b[38;5;241;43m=\u001b[39;49m\u001b[38;5;241;43m-\u001b[39;49m\u001b[38;5;241;43m1\u001b[39;49m\u001b[43m)\u001b[49m\n\u001b[1;32m     45\u001b[0m     \u001b[38;5;28;01mdef\u001b[39;00m\u001b[38;5;250m \u001b[39m\u001b[38;5;21mh\u001b[39m(x):\n\u001b[1;32m     46\u001b[0m         \u001b[38;5;28;01mreturn\u001b[39;00m F\u001b[38;5;241m.\u001b[39msoftplus(x) \u001b[38;5;28;01mif\u001b[39;00m \u001b[38;5;28mself\u001b[39m\u001b[38;5;241m.\u001b[39mmonotonicity_constraint \u001b[38;5;28;01melse\u001b[39;00m x\n",
      "\u001b[0;31mRuntimeError\u001b[0m: Tensors must have same number of dimensions: got 2 and 1"
     ]
    }
   ],
   "source": [
    "rng = np.random.default_rng(seed=42)\n",
    "\n",
    "epochs = tqdm(range(2))\n",
    "for epoch in epochs:\n",
    "    num_voters = get_value(NUM_VOTERS_RANGE, rng)\n",
    "    num_candidates = get_value(NUM_CANDIDATES_RANGE, rng)\n",
    "\n",
    "    election_data = generate_synthetic_election(\n",
    "        num_voters=num_voters, num_candidates=num_candidates, rng=rng\n",
    "    )\n",
    "    test = election_data.to_bipartite_graph(5, vote_data=\"ranking\")\n",
    "    # print(test.x)\n",
    "    # print(test.edge_index)\n",
    "    # print(test.edge_attr)\n",
    "    # print(test.candidate_idxs)\n",
    "    election_data.voter_utilities = election_data.voter_utilities.float()\n",
    "\n",
    "    transformed_utilities = strategy_model(election_data.voter_utilities)\n",
    "\n",
    "    # Randomly disable gradients to all but one voter\n",
    "    unmasked_voter = rng.integers(low=0, high=num_voters)\n",
    "    gradient_mask = torch.ones(num_voters)\n",
    "    gradient_mask[unmasked_voter] = 0\n",
    "    gradient_mask = gradient_mask.bool()\n",
    "    gradient_mask = gradient_mask.unsqueeze(-1)\n",
    "\n",
    "    transformed_utilities = torch.where(gradient_mask, transformed_utilities.detach(), transformed_utilities)\n",
    "    bipartite_graph = utility_matrix_to_graph(transformed_utilities)\n",
    "    print(bipartite_graph)\n",
    "    print(bipartite_graph.x)\n",
    "    print(bipartite_graph.edge_index.size())\n",
    "    print(bipartite_graph.edge_attr.size())\n",
    "    print(bipartite_graph.candidate_idxs)\n",
    "\n",
    "    # Pass through frozen election_model\n",
    "    graph = Batch.from_data_list([bipartite_graph])\n",
    "\n",
    "    print(election_model(graph))"
   ]
  },
  {
   "cell_type": "code",
   "execution_count": null,
   "id": "81933c79-83d9-4769-94c9-87ce8428b1b8",
   "metadata": {},
   "outputs": [],
   "source": []
  }
 ],
 "metadata": {
  "kernelspec": {
   "display_name": "Python 3 (ipykernel)",
   "language": "python",
   "name": "python3"
  },
  "language_info": {
   "codemirror_mode": {
    "name": "ipython",
    "version": 3
   },
   "file_extension": ".py",
   "mimetype": "text/x-python",
   "name": "python",
   "nbconvert_exporter": "python",
   "pygments_lexer": "ipython3",
   "version": "3.12.8"
  }
 },
 "nbformat": 4,
 "nbformat_minor": 5
}
