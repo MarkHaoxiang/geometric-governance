{
 "cells": [
  {
   "cell_type": "code",
   "execution_count": 14,
   "id": "55894de5-26da-4995-9a83-f4958a404185",
   "metadata": {},
   "outputs": [],
   "source": [
    "import numpy as np\n",
    "import torch\n",
    "import torch.nn.functional as F\n",
    "import torch.nn as nn\n",
    "from torch.utils.data import Dataset, DataLoader\n",
    "from torch_geometric.nn import MLP, DeepSetsAggregation, conv\n",
    "from torch_geometric.data import Batch, Data\n",
    "from tqdm import tqdm\n",
    "\n",
    "from geometric_governance.util import RangeOrValue, get_value\n",
    "from geometric_governance.data import generate_synthetic_election, ElectionData\n",
    "from geometric_governance.model import MessagePassingElectionModel"
   ]
  },
  {
   "cell_type": "code",
   "execution_count": 2,
   "id": "16f8b77c-a38b-4959-aa80-2ac96c85a1a9",
   "metadata": {},
   "outputs": [],
   "source": [
    "NUM_VOTERS_RANGE = (3, 50)\n",
    "NUM_CANDIDATES_RANGE = 5\n",
    "TRAIN_BATCH_SIZE = 128\n",
    "TRAIN_NUM_EPOCHS = 1_000"
   ]
  },
  {
   "cell_type": "code",
   "execution_count": 3,
   "id": "6f4ca21a-54bd-442a-b755-705ca2e4670a",
   "metadata": {},
   "outputs": [
    {
     "name": "stdout",
     "output_type": "stream",
     "text": [
      "tensor([[0, 0, 0, 0, 0, 1, 1, 1, 1, 1, 2, 2, 2, 2, 2, 3, 3, 3, 3, 3, 4, 4, 4, 4,\n",
      "         4],\n",
      "        [0, 1, 2, 3, 4, 0, 1, 2, 3, 4, 0, 1, 2, 3, 4, 0, 1, 2, 3, 4, 0, 1, 2, 3,\n",
      "         4]])\n"
     ]
    }
   ],
   "source": [
    "def fully_connected_directed_edge_index(n):\n",
    "    row, col = torch.meshgrid(torch.arange(n), torch.arange(n), indexing='ij')\n",
    "    edge_index = torch.stack([row.flatten(), col.flatten()], dim=0)\n",
    "    return edge_index\n",
    "\n",
    "print(fully_connected_directed_edge_index(5))"
   ]
  },
  {
   "cell_type": "code",
   "execution_count": 4,
   "id": "db5c62ea-6e0f-4953-8aff-dcec0acd7d11",
   "metadata": {},
   "outputs": [],
   "source": [
    "# StrategyModel is responsible for transforming voter utilities\n",
    "class StrategyModel(nn.Module):\n",
    "    def __init__(self, num_candidates: int, embedding_size: int = 128):\n",
    "        super().__init__()\n",
    "        self.reveal_utility = nn.Linear(num_candidates, embedding_size)\n",
    "        self.gnn_communicate = nn.ModuleList([conv.GATv2Conv(in_channels=embedding_size, out_channels=embedding_size, add_self_loops=True) for _ in range(5)])\n",
    "        self.aggregate = nn.Linear(embedding_size, num_candidates)\n",
    "\n",
    "    def forward(self, x):\n",
    "        x = self.reveal_utility(x)\n",
    "        revealed_utilities = x.clone()\n",
    "\n",
    "        edge_index = fully_connected_directed_edge_index(x.size(-2))\n",
    "        for conv in self.gnn_communicate:\n",
    "            x = conv(x, edge_index)\n",
    "\n",
    "        x = self.aggregate(revealed_utilities + x)\n",
    "        x = F.softmax(x, dim=-1)\n",
    "\n",
    "        return x"
   ]
  },
  {
   "cell_type": "code",
   "execution_count": 5,
   "id": "ad3d9f33-b1cd-4a14-a793-22dada9e7e7e",
   "metadata": {},
   "outputs": [],
   "source": [
    "strategy_model = StrategyModel(NUM_CANDIDATES_RANGE)\n",
    "strategy_model.train()\n",
    "strategy_optim = torch.optim.Adam(strategy_model.parameters())"
   ]
  },
  {
   "cell_type": "code",
   "execution_count": 6,
   "id": "b37cc52d-b0dd-43b9-90a1-c6dfe611611d",
   "metadata": {},
   "outputs": [
    {
     "data": {
      "text/plain": [
       "MessagePassingElectionModel(\n",
       "  (convs): ModuleList(\n",
       "    (0-3): 4 x MessagePassingElectionLayer()\n",
       "  )\n",
       ")"
      ]
     },
     "execution_count": 6,
     "metadata": {},
     "output_type": "execute_result"
    }
   ],
   "source": [
    "election_model = MessagePassingElectionModel(edge_dim=1)\n",
    "election_model.load_state_dict(torch.load(\"election_model\", weights_only=True))\n",
    "election_model.eval()"
   ]
  },
  {
   "cell_type": "code",
   "execution_count": 22,
   "id": "52de1d53-eec1-4576-9c98-5e8396614963",
   "metadata": {},
   "outputs": [],
   "source": [
    "def utility_matrix_to_graph(U):\n",
    "    \"\"\"\n",
    "    Converts a utility matrix U (Voters x Candidates) into a PyTorch Geometric Data object.\n",
    "    \n",
    "    Parameters:\n",
    "        U (torch.Tensor): A tensor of shape (..., num_voters, num_candidates).\n",
    "    \n",
    "    Returns:\n",
    "        Data: A PyTorch Geometric Data object.\n",
    "    \"\"\"\n",
    "    num_voters, num_candidates = U.size(-2), U.size(-1)\n",
    "    \n",
    "    # Node features: one-hot encoding for voters and candidates\n",
    "    x_voters = torch.tensor([[1, 0]] * num_voters, dtype=torch.float)\n",
    "    x_candidates = torch.tensor([[0, 1]] * num_candidates, dtype=torch.float)\n",
    "    x = torch.cat([x_voters, x_candidates], dim=0)\n",
    "    \n",
    "    # Create edges\n",
    "    voter_indices = torch.arange(num_voters).repeat_interleave(num_candidates)\n",
    "    candidate_indices = torch.arange(num_candidates).repeat(num_voters)\n",
    "    \n",
    "    # Shift candidate indices to match node indexing\n",
    "    candidate_indices += num_voters\n",
    "    \n",
    "    edge_index = torch.stack([voter_indices, candidate_indices], dim=0)\n",
    "\n",
    "    # Edge attributes (utility values)\n",
    "    edge_attr = U.flatten().unsqueeze(-1)\n",
    "\n",
    "    # Candidate indices\n",
    "    candidate_idxs = x[:, 1] == 1\n",
    "\n",
    "    return Data(x=x, edge_index=edge_index, edge_attr=edge_attr, candidate_idxs=candidate_idxs)"
   ]
  },
  {
   "cell_type": "code",
   "execution_count": 23,
   "id": "9d553936-592e-4f91-8119-d37be58ebfc3",
   "metadata": {},
   "outputs": [
    {
     "name": "stderr",
     "output_type": "stream",
     "text": [
      "100%|████████████████████████████████████████████████████████████████████████████████████████████████████████████████████████████████████████████████████████| 2/2 [00:00<00:00, 54.54it/s]"
     ]
    },
    {
     "name": "stdout",
     "output_type": "stream",
     "text": [
      "Data(x=[12, 2], edge_index=[2, 35], edge_attr=[35, 1], candidate_idxs=[12])\n",
      "tensor([[1., 0.],\n",
      "        [1., 0.],\n",
      "        [1., 0.],\n",
      "        [1., 0.],\n",
      "        [1., 0.],\n",
      "        [1., 0.],\n",
      "        [1., 0.],\n",
      "        [0., 1.],\n",
      "        [0., 1.],\n",
      "        [0., 1.],\n",
      "        [0., 1.],\n",
      "        [0., 1.]])\n",
      "torch.Size([2, 35])\n",
      "torch.Size([35, 1])\n",
      "tensor([False, False, False, False, False, False, False,  True,  True,  True,\n",
      "         True,  True])\n",
      "tensor([-1.2939, -1.3462, -1.8036, -2.3669, -1.5746], grad_fn=<SubBackward0>)\n",
      "Data(x=[29, 2], edge_index=[2, 120], edge_attr=[120, 1], candidate_idxs=[29])\n",
      "tensor([[1., 0.],\n",
      "        [1., 0.],\n",
      "        [1., 0.],\n",
      "        [1., 0.],\n",
      "        [1., 0.],\n",
      "        [1., 0.],\n",
      "        [1., 0.],\n",
      "        [1., 0.],\n",
      "        [1., 0.],\n",
      "        [1., 0.],\n",
      "        [1., 0.],\n",
      "        [1., 0.],\n",
      "        [1., 0.],\n",
      "        [1., 0.],\n",
      "        [1., 0.],\n",
      "        [1., 0.],\n",
      "        [1., 0.],\n",
      "        [1., 0.],\n",
      "        [1., 0.],\n",
      "        [1., 0.],\n",
      "        [1., 0.],\n",
      "        [1., 0.],\n",
      "        [1., 0.],\n",
      "        [1., 0.],\n",
      "        [0., 1.],\n",
      "        [0., 1.],\n",
      "        [0., 1.],\n",
      "        [0., 1.],\n",
      "        [0., 1.]])\n",
      "torch.Size([2, 120])\n",
      "torch.Size([120, 1])\n",
      "tensor([False, False, False, False, False, False, False, False, False, False,\n",
      "        False, False, False, False, False, False, False, False, False, False,\n",
      "        False, False, False, False,  True,  True,  True,  True,  True])\n",
      "tensor([-0.8132, -0.7715, -4.3946, -6.1916, -2.5277], grad_fn=<SubBackward0>)\n"
     ]
    },
    {
     "name": "stderr",
     "output_type": "stream",
     "text": [
      "\n"
     ]
    }
   ],
   "source": [
    "rng = np.random.default_rng(seed=42)\n",
    "\n",
    "epochs = tqdm(range(2))\n",
    "for epoch in epochs:\n",
    "    num_voters = get_value(NUM_VOTERS_RANGE, rng)\n",
    "    num_candidates = get_value(NUM_CANDIDATES_RANGE, rng)\n",
    "\n",
    "    election_data = generate_synthetic_election(\n",
    "        num_voters=num_voters, num_candidates=num_candidates, rng=rng\n",
    "    )\n",
    "    test = election_data.to_bipartite_graph(5, vote_data=\"ranking\")\n",
    "    # print(test.x)\n",
    "    # print(test.edge_index)\n",
    "    # print(test.edge_attr)\n",
    "    # print(test.candidate_idxs)\n",
    "    election_data.voter_utilities = election_data.voter_utilities.float()\n",
    "\n",
    "    transformed_utilities = strategy_model(election_data.voter_utilities)\n",
    "\n",
    "    # Randomly disable gradients to all but one voter\n",
    "    unmasked_voter = rng.integers(low=0, high=num_voters)\n",
    "    gradient_mask = torch.ones(num_voters)\n",
    "    gradient_mask[unmasked_voter] = 0\n",
    "    gradient_mask = gradient_mask.bool()\n",
    "    gradient_mask = gradient_mask.unsqueeze(-1)\n",
    "\n",
    "    transformed_utilities = torch.where(gradient_mask, transformed_utilities.detach(), transformed_utilities)\n",
    "    bipartite_graph = utility_matrix_to_graph(transformed_utilities)\n",
    "    print(bipartite_graph)\n",
    "    print(bipartite_graph.x)\n",
    "    print(bipartite_graph.edge_index.size())\n",
    "    print(bipartite_graph.edge_attr.size())\n",
    "    print(bipartite_graph.candidate_idxs)\n",
    "\n",
    "    # Pass through frozen election_model\n",
    "    graph = Batch.from_data_list([bipartite_graph])\n",
    "\n",
    "    print(election_model(graph))"
   ]
  }
 ],
 "metadata": {
  "kernelspec": {
   "display_name": "Python 3 (ipykernel)",
   "language": "python",
   "name": "python3"
  },
  "language_info": {
   "codemirror_mode": {
    "name": "ipython",
    "version": 3
   },
   "file_extension": ".py",
   "mimetype": "text/x-python",
   "name": "python",
   "nbconvert_exporter": "python",
   "pygments_lexer": "ipython3",
   "version": "3.12.8"
  }
 },
 "nbformat": 4,
 "nbformat_minor": 5
}
