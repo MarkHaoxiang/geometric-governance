{
 "cells": [
  {
   "cell_type": "code",
   "execution_count": 1,
   "id": "55894de5-26da-4995-9a83-f4958a404185",
   "metadata": {},
   "outputs": [],
   "source": [
    "import numpy as np\n",
    "import torch\n",
    "import torch.nn.functional as F\n",
    "import torch.nn as nn\n",
    "from torch.utils.data import Dataset, DataLoader\n",
    "from torch_geometric.nn import MLP, DeepSetsAggregation, conv\n",
    "from torch_geometric.data import Batch, Data\n",
    "from tqdm import tqdm\n",
    "\n",
    "from geometric_governance.util import RangeOrValue, get_value\n",
    "from geometric_governance.data import generate_synthetic_election, ElectionData\n",
    "from geometric_governance.model import MessagePassingElectionModel"
   ]
  },
  {
   "cell_type": "code",
   "execution_count": 2,
   "id": "16f8b77c-a38b-4959-aa80-2ac96c85a1a9",
   "metadata": {},
   "outputs": [],
   "source": [
    "NUM_VOTERS_RANGE = (3, 50)\n",
    "NUM_CANDIDATES_RANGE = 5\n",
    "TRAIN_BATCH_SIZE = 128\n",
    "TRAIN_NUM_EPOCHS = 1_000"
   ]
  },
  {
   "cell_type": "code",
   "execution_count": 3,
   "id": "6f4ca21a-54bd-442a-b755-705ca2e4670a",
   "metadata": {},
   "outputs": [
    {
     "name": "stdout",
     "output_type": "stream",
     "text": [
      "tensor([[0, 0, 0, 0, 0, 1, 1, 1, 1, 1, 2, 2, 2, 2, 2, 3, 3, 3, 3, 3, 4, 4, 4, 4,\n",
      "         4],\n",
      "        [0, 1, 2, 3, 4, 0, 1, 2, 3, 4, 0, 1, 2, 3, 4, 0, 1, 2, 3, 4, 0, 1, 2, 3,\n",
      "         4]])\n"
     ]
    }
   ],
   "source": [
    "def fully_connected_directed_edge_index(n):\n",
    "    row, col = torch.meshgrid(torch.arange(n), torch.arange(n), indexing=\"ij\")\n",
    "    edge_index = torch.stack([row.flatten(), col.flatten()], dim=0)\n",
    "    return edge_index\n",
    "\n",
    "\n",
    "print(fully_connected_directed_edge_index(5))"
   ]
  },
  {
   "cell_type": "code",
   "execution_count": 4,
   "id": "db5c62ea-6e0f-4953-8aff-dcec0acd7d11",
   "metadata": {},
   "outputs": [],
   "source": [
    "# StrategyModel is responsible for transforming voter utilities\n",
    "class StrategyModel(nn.Module):\n",
    "    def __init__(self, num_candidates: int, embedding_size: int = 128):\n",
    "        super().__init__()\n",
    "        self.reveal_utility = nn.Linear(num_candidates, embedding_size)\n",
    "        self.gnn_communicate = nn.ModuleList(\n",
    "            [\n",
    "                conv.GATv2Conv(\n",
    "                    in_channels=embedding_size,\n",
    "                    out_channels=embedding_size,\n",
    "                    add_self_loops=True,\n",
    "                )\n",
    "                for _ in range(5)\n",
    "            ]\n",
    "        )\n",
    "        self.aggregate = nn.Linear(embedding_size, num_candidates)\n",
    "\n",
    "    def forward(self, x):\n",
    "        x = self.reveal_utility(x)\n",
    "        revealed_utilities = x.clone()\n",
    "\n",
    "        edge_index = fully_connected_directed_edge_index(x.size(-2))\n",
    "        for conv in self.gnn_communicate:\n",
    "            x = conv(x, edge_index)\n",
    "\n",
    "        x = self.aggregate(revealed_utilities + x)\n",
    "        x = F.softmax(x, dim=-1)\n",
    "\n",
    "        return x"
   ]
  },
  {
   "cell_type": "code",
   "execution_count": 5,
   "id": "ad3d9f33-b1cd-4a14-a793-22dada9e7e7e",
   "metadata": {},
   "outputs": [],
   "source": [
    "strategy_model = StrategyModel(NUM_CANDIDATES_RANGE)\n",
    "strategy_model.train()\n",
    "strategy_optim = torch.optim.Adam(strategy_model.parameters())"
   ]
  },
  {
   "cell_type": "code",
   "execution_count": 11,
   "id": "b37cc52d-b0dd-43b9-90a1-c6dfe611611d",
   "metadata": {},
   "outputs": [
    {
     "data": {
      "text/plain": [
       "MessagePassingElectionModel(\n",
       "  (lin_in_node): Linear(in_features=2, out_features=32, bias=True)\n",
       "  (lin_out_node): Linear(in_features=32, out_features=1, bias=True)\n",
       "  (lin_in_edge): Linear(in_features=1, out_features=8, bias=True)\n",
       "  (convs): ModuleList(\n",
       "    (0-3): 4 x MessagePassingElectionLayer()\n",
       "  )\n",
       ")"
      ]
     },
     "execution_count": 11,
     "metadata": {},
     "output_type": "execute_result"
    }
   ],
   "source": [
    "election_model = MessagePassingElectionModel(edge_dim=1)\n",
    "# election_model.load_state_dict(torch.load(\"election_model\", weights_only=True))\n",
    "election_model.eval()"
   ]
  },
  {
   "cell_type": "code",
   "execution_count": 12,
   "id": "52de1d53-eec1-4576-9c98-5e8396614963",
   "metadata": {},
   "outputs": [],
   "source": [
    "def utility_matrix_to_graph(U):\n",
    "    \"\"\"\n",
    "    Converts a utility matrix U (Voters x Candidates) into a PyTorch Geometric Data object.\n",
    "\n",
    "    Parameters:\n",
    "        U (torch.Tensor): A tensor of shape (..., num_voters, num_candidates).\n",
    "\n",
    "    Returns:\n",
    "        Data: A PyTorch Geometric Data object.\n",
    "    \"\"\"\n",
    "    num_voters, num_candidates = U.size(-2), U.size(-1)\n",
    "\n",
    "    # Node features: one-hot encoding for voters and candidates\n",
    "    x_voters = torch.tensor([[1, 0]] * num_voters, dtype=torch.float)\n",
    "    x_candidates = torch.tensor([[0, 1]] * num_candidates, dtype=torch.float)\n",
    "    x = torch.cat([x_voters, x_candidates], dim=0)\n",
    "\n",
    "    # Create edges\n",
    "    voter_indices = torch.arange(num_voters).repeat_interleave(num_candidates)\n",
    "    candidate_indices = torch.arange(num_candidates).repeat(num_voters)\n",
    "\n",
    "    # Shift candidate indices to match node indexing\n",
    "    candidate_indices += num_voters\n",
    "\n",
    "    edge_index = torch.stack([voter_indices, candidate_indices], dim=0)\n",
    "\n",
    "    # Edge attributes (utility values)\n",
    "    edge_attr = U.flatten().unsqueeze(-1)\n",
    "\n",
    "    # Candidate indices\n",
    "    candidate_idxs = x[:, 1] == 1\n",
    "\n",
    "    return Data(\n",
    "        x=x, edge_index=edge_index, edge_attr=edge_attr, candidate_idxs=candidate_idxs\n",
    "    )"
   ]
  },
  {
   "cell_type": "code",
   "execution_count": 13,
   "id": "d7167311-66d7-466e-859a-20efbca459f1",
   "metadata": {},
   "outputs": [],
   "source": [
    "def print_graph_data(data: Data):\n",
    "    print(data)\n",
    "    print(data.x)\n",
    "    print(data.edge_index)\n",
    "    print(data.edge_attr)\n",
    "    print(data.candidate_idxs)"
   ]
  },
  {
   "cell_type": "code",
   "execution_count": null,
   "id": "9d553936-592e-4f91-8119-d37be58ebfc3",
   "metadata": {},
   "outputs": [
    {
     "name": "stderr",
     "output_type": "stream",
     "text": [
      " 19%|█▉        | 192/1000 [00:02<00:10, 79.72it/s, strategy_loss=tensor(1.5586, grad_fn=<NegBackward0>)] \n"
     ]
    },
    {
     "ename": "KeyboardInterrupt",
     "evalue": "",
     "output_type": "error",
     "traceback": [
      "\u001b[0;31m---------------------------------------------------------------------------\u001b[0m",
      "\u001b[0;31mKeyboardInterrupt\u001b[0m                         Traceback (most recent call last)",
      "Cell \u001b[0;32mIn[14], line 13\u001b[0m\n\u001b[1;32m      8\u001b[0m election_data \u001b[38;5;241m=\u001b[39m generate_synthetic_election(\n\u001b[1;32m      9\u001b[0m     num_voters\u001b[38;5;241m=\u001b[39mnum_voters, num_candidates\u001b[38;5;241m=\u001b[39mnum_candidates, rng\u001b[38;5;241m=\u001b[39mrng\n\u001b[1;32m     10\u001b[0m )\n\u001b[1;32m     11\u001b[0m election_data\u001b[38;5;241m.\u001b[39mvoter_utilities \u001b[38;5;241m=\u001b[39m election_data\u001b[38;5;241m.\u001b[39mvoter_utilities\u001b[38;5;241m.\u001b[39mfloat()\n\u001b[0;32m---> 13\u001b[0m transformed_utilities \u001b[38;5;241m=\u001b[39m \u001b[43mstrategy_model\u001b[49m\u001b[43m(\u001b[49m\u001b[43melection_data\u001b[49m\u001b[38;5;241;43m.\u001b[39;49m\u001b[43mvoter_utilities\u001b[49m\u001b[43m)\u001b[49m\n\u001b[1;32m     15\u001b[0m \u001b[38;5;66;03m# Randomly disable gradients to all but one voter\u001b[39;00m\n\u001b[1;32m     16\u001b[0m unmasked_voter \u001b[38;5;241m=\u001b[39m rng\u001b[38;5;241m.\u001b[39mintegers(low\u001b[38;5;241m=\u001b[39m\u001b[38;5;241m0\u001b[39m, high\u001b[38;5;241m=\u001b[39mnum_voters)\n",
      "File \u001b[0;32m~/Projects/geometric-governance/.venv/lib/python3.12/site-packages/torch/nn/modules/module.py:1739\u001b[0m, in \u001b[0;36mModule._wrapped_call_impl\u001b[0;34m(self, *args, **kwargs)\u001b[0m\n\u001b[1;32m   1737\u001b[0m     \u001b[38;5;28;01mreturn\u001b[39;00m \u001b[38;5;28mself\u001b[39m\u001b[38;5;241m.\u001b[39m_compiled_call_impl(\u001b[38;5;241m*\u001b[39margs, \u001b[38;5;241m*\u001b[39m\u001b[38;5;241m*\u001b[39mkwargs)  \u001b[38;5;66;03m# type: ignore[misc]\u001b[39;00m\n\u001b[1;32m   1738\u001b[0m \u001b[38;5;28;01melse\u001b[39;00m:\n\u001b[0;32m-> 1739\u001b[0m     \u001b[38;5;28;01mreturn\u001b[39;00m \u001b[38;5;28;43mself\u001b[39;49m\u001b[38;5;241;43m.\u001b[39;49m\u001b[43m_call_impl\u001b[49m\u001b[43m(\u001b[49m\u001b[38;5;241;43m*\u001b[39;49m\u001b[43margs\u001b[49m\u001b[43m,\u001b[49m\u001b[43m \u001b[49m\u001b[38;5;241;43m*\u001b[39;49m\u001b[38;5;241;43m*\u001b[39;49m\u001b[43mkwargs\u001b[49m\u001b[43m)\u001b[49m\n",
      "File \u001b[0;32m~/Projects/geometric-governance/.venv/lib/python3.12/site-packages/torch/nn/modules/module.py:1750\u001b[0m, in \u001b[0;36mModule._call_impl\u001b[0;34m(self, *args, **kwargs)\u001b[0m\n\u001b[1;32m   1745\u001b[0m \u001b[38;5;66;03m# If we don't have any hooks, we want to skip the rest of the logic in\u001b[39;00m\n\u001b[1;32m   1746\u001b[0m \u001b[38;5;66;03m# this function, and just call forward.\u001b[39;00m\n\u001b[1;32m   1747\u001b[0m \u001b[38;5;28;01mif\u001b[39;00m \u001b[38;5;129;01mnot\u001b[39;00m (\u001b[38;5;28mself\u001b[39m\u001b[38;5;241m.\u001b[39m_backward_hooks \u001b[38;5;129;01mor\u001b[39;00m \u001b[38;5;28mself\u001b[39m\u001b[38;5;241m.\u001b[39m_backward_pre_hooks \u001b[38;5;129;01mor\u001b[39;00m \u001b[38;5;28mself\u001b[39m\u001b[38;5;241m.\u001b[39m_forward_hooks \u001b[38;5;129;01mor\u001b[39;00m \u001b[38;5;28mself\u001b[39m\u001b[38;5;241m.\u001b[39m_forward_pre_hooks\n\u001b[1;32m   1748\u001b[0m         \u001b[38;5;129;01mor\u001b[39;00m _global_backward_pre_hooks \u001b[38;5;129;01mor\u001b[39;00m _global_backward_hooks\n\u001b[1;32m   1749\u001b[0m         \u001b[38;5;129;01mor\u001b[39;00m _global_forward_hooks \u001b[38;5;129;01mor\u001b[39;00m _global_forward_pre_hooks):\n\u001b[0;32m-> 1750\u001b[0m     \u001b[38;5;28;01mreturn\u001b[39;00m \u001b[43mforward_call\u001b[49m\u001b[43m(\u001b[49m\u001b[38;5;241;43m*\u001b[39;49m\u001b[43margs\u001b[49m\u001b[43m,\u001b[49m\u001b[43m \u001b[49m\u001b[38;5;241;43m*\u001b[39;49m\u001b[38;5;241;43m*\u001b[39;49m\u001b[43mkwargs\u001b[49m\u001b[43m)\u001b[49m\n\u001b[1;32m   1752\u001b[0m result \u001b[38;5;241m=\u001b[39m \u001b[38;5;28;01mNone\u001b[39;00m\n\u001b[1;32m   1753\u001b[0m called_always_called_hooks \u001b[38;5;241m=\u001b[39m \u001b[38;5;28mset\u001b[39m()\n",
      "Cell \u001b[0;32mIn[4], line 13\u001b[0m, in \u001b[0;36mStrategyModel.forward\u001b[0;34m(self, x)\u001b[0m\n\u001b[1;32m     10\u001b[0m x \u001b[38;5;241m=\u001b[39m \u001b[38;5;28mself\u001b[39m\u001b[38;5;241m.\u001b[39mreveal_utility(x)\n\u001b[1;32m     11\u001b[0m revealed_utilities \u001b[38;5;241m=\u001b[39m x\u001b[38;5;241m.\u001b[39mclone()\n\u001b[0;32m---> 13\u001b[0m edge_index \u001b[38;5;241m=\u001b[39m \u001b[43mfully_connected_directed_edge_index\u001b[49m\u001b[43m(\u001b[49m\u001b[43mx\u001b[49m\u001b[38;5;241;43m.\u001b[39;49m\u001b[43msize\u001b[49m\u001b[43m(\u001b[49m\u001b[38;5;241;43m-\u001b[39;49m\u001b[38;5;241;43m2\u001b[39;49m\u001b[43m)\u001b[49m\u001b[43m)\u001b[49m\n\u001b[1;32m     14\u001b[0m \u001b[38;5;28;01mfor\u001b[39;00m conv \u001b[38;5;129;01min\u001b[39;00m \u001b[38;5;28mself\u001b[39m\u001b[38;5;241m.\u001b[39mgnn_communicate:\n\u001b[1;32m     15\u001b[0m     x \u001b[38;5;241m=\u001b[39m conv(x, edge_index)\n",
      "Cell \u001b[0;32mIn[3], line 3\u001b[0m, in \u001b[0;36mfully_connected_directed_edge_index\u001b[0;34m(n)\u001b[0m\n\u001b[1;32m      1\u001b[0m \u001b[38;5;28;01mdef\u001b[39;00m\u001b[38;5;250m \u001b[39m\u001b[38;5;21mfully_connected_directed_edge_index\u001b[39m(n):\n\u001b[1;32m      2\u001b[0m     row, col \u001b[38;5;241m=\u001b[39m torch\u001b[38;5;241m.\u001b[39mmeshgrid(torch\u001b[38;5;241m.\u001b[39marange(n), torch\u001b[38;5;241m.\u001b[39marange(n), indexing\u001b[38;5;241m=\u001b[39m\u001b[38;5;124m'\u001b[39m\u001b[38;5;124mij\u001b[39m\u001b[38;5;124m'\u001b[39m)\n\u001b[0;32m----> 3\u001b[0m     edge_index \u001b[38;5;241m=\u001b[39m torch\u001b[38;5;241m.\u001b[39mstack([\u001b[43mrow\u001b[49m\u001b[38;5;241;43m.\u001b[39;49m\u001b[43mflatten\u001b[49m\u001b[43m(\u001b[49m\u001b[43m)\u001b[49m, col\u001b[38;5;241m.\u001b[39mflatten()], dim\u001b[38;5;241m=\u001b[39m\u001b[38;5;241m0\u001b[39m)\n\u001b[1;32m      4\u001b[0m     \u001b[38;5;28;01mreturn\u001b[39;00m edge_index\n",
      "\u001b[0;31mKeyboardInterrupt\u001b[0m: "
     ]
    }
   ],
   "source": [
    "rng = np.random.default_rng(seed=42)\n",
    "\n",
    "epochs = tqdm(range(TRAIN_NUM_EPOCHS))\n",
    "for epoch in epochs:\n",
    "    num_voters = get_value(NUM_VOTERS_RANGE, rng)\n",
    "    num_candidates = get_value(NUM_CANDIDATES_RANGE, rng)\n",
    "\n",
    "    election_data = generate_synthetic_election(\n",
    "        num_voters=num_voters, num_candidates=num_candidates, rng=rng\n",
    "    )\n",
    "    election_data.voter_utilities = election_data.voter_utilities.float()\n",
    "\n",
    "    transformed_utilities = strategy_model(election_data.voter_utilities)\n",
    "\n",
    "    # Randomly disable gradients to all but one voter\n",
    "    unmasked_voter = rng.integers(low=0, high=num_voters)\n",
    "    gradient_mask = torch.ones(num_voters)\n",
    "    gradient_mask[unmasked_voter] = 0\n",
    "    gradient_mask = gradient_mask.bool()\n",
    "    gradient_mask = gradient_mask.unsqueeze(-1)\n",
    "    print(transformed_utilities.shape)\n",
    "\n",
    "    transformed_utilities = torch.where(\n",
    "        gradient_mask, transformed_utilities.detach(), transformed_utilities\n",
    "    )\n",
    "    bipartite_graph = utility_matrix_to_graph(transformed_utilities)\n",
    "\n",
    "    # Pass through frozen election_model\n",
    "    graph = Batch.from_data_list([bipartite_graph])\n",
    "    out = election_model(graph)\n",
    "\n",
    "    # Calculate loss for one voter, and update strategy_model's parameters\n",
    "    strategy_optim.zero_grad()\n",
    "    loss = -(torch.dot(out, election_data.voter_utilities[unmasked_voter]))\n",
    "    loss.backward()\n",
    "    strategy_optim.step()\n",
    "\n",
    "    epochs.set_postfix({\"strategy_loss\": loss})"
   ]
  },
  {
   "cell_type": "code",
   "execution_count": 36,
   "id": "7a5175bb-7fe9-423a-a8db-f119639fac88",
   "metadata": {},
   "outputs": [
    {
     "data": {
      "text/plain": [
       "tensor([[0.1405, 0.4738, 0.0879, 0.2872, 0.0106],\n",
       "        [0.5978, 0.0204, 0.0803, 0.0819, 0.2196],\n",
       "        [0.2841, 0.1888, 0.1146, 0.0995, 0.3130],\n",
       "        [0.0034, 0.0031, 0.3444, 0.4339, 0.2153],\n",
       "        [0.2872, 0.1333, 0.0162, 0.3592, 0.2041],\n",
       "        [0.1664, 0.3263, 0.0749, 0.3745, 0.0580],\n",
       "        [0.4832, 0.0330, 0.0294, 0.3734, 0.0810],\n",
       "        [0.1755, 0.4521, 0.1116, 0.1439, 0.1169],\n",
       "        [0.3825, 0.1553, 0.1202, 0.1468, 0.1953],\n",
       "        [0.0146, 0.1700, 0.4109, 0.3609, 0.0436],\n",
       "        [0.1149, 0.0395, 0.0899, 0.4052, 0.3505],\n",
       "        [0.1472, 0.3564, 0.0787, 0.0016, 0.4161],\n",
       "        [0.0769, 0.0420, 0.2877, 0.5511, 0.0422],\n",
       "        [0.0560, 0.0257, 0.2364, 0.1114, 0.5705],\n",
       "        [0.3400, 0.1143, 0.2718, 0.1970, 0.0769],\n",
       "        [0.0435, 0.6513, 0.1572, 0.0260, 0.1220],\n",
       "        [0.2119, 0.5596, 0.1107, 0.0915, 0.0263],\n",
       "        [0.1625, 0.1933, 0.0555, 0.0032, 0.5855],\n",
       "        [0.0946, 0.2732, 0.0327, 0.1573, 0.4422],\n",
       "        [0.1480, 0.1979, 0.2313, 0.3369, 0.0858],\n",
       "        [0.1747, 0.3676, 0.0087, 0.4055, 0.0435],\n",
       "        [0.0721, 0.2411, 0.0445, 0.5354, 0.1069],\n",
       "        [0.0211, 0.1353, 0.0504, 0.1569, 0.6362],\n",
       "        [0.2185, 0.0362, 0.3095, 0.1836, 0.2522],\n",
       "        [0.1152, 0.1165, 0.0358, 0.1205, 0.6121],\n",
       "        [0.2089, 0.2196, 0.0050, 0.3376, 0.2289],\n",
       "        [0.0743, 0.2948, 0.0150, 0.4571, 0.1587],\n",
       "        [0.3384, 0.0258, 0.1616, 0.1275, 0.3467],\n",
       "        [0.3177, 0.1774, 0.3268, 0.0276, 0.1505],\n",
       "        [0.7944, 0.0562, 0.0269, 0.0025, 0.1199],\n",
       "        [0.0381, 0.1144, 0.5498, 0.1353, 0.1624],\n",
       "        [0.0022, 0.3582, 0.2905, 0.0552, 0.2938],\n",
       "        [0.0798, 0.2346, 0.4297, 0.1841, 0.0718],\n",
       "        [0.4394, 0.0144, 0.3512, 0.0139, 0.1811],\n",
       "        [0.2143, 0.0433, 0.5363, 0.1527, 0.0535],\n",
       "        [0.0499, 0.1117, 0.1303, 0.3512, 0.3568],\n",
       "        [0.0249, 0.1444, 0.1162, 0.5416, 0.1728],\n",
       "        [0.1547, 0.1827, 0.1264, 0.0127, 0.5235],\n",
       "        [0.3011, 0.3103, 0.0905, 0.1289, 0.1692],\n",
       "        [0.0035, 0.2440, 0.0826, 0.3334, 0.3366],\n",
       "        [0.0858, 0.1211, 0.3800, 0.0937, 0.3193],\n",
       "        [0.1471, 0.3612, 0.0730, 0.3661, 0.0526],\n",
       "        [0.2179, 0.1053, 0.5827, 0.0257, 0.0684],\n",
       "        [0.6517, 0.0845, 0.0878, 0.0862, 0.0899],\n",
       "        [0.3485, 0.1732, 0.2131, 0.0762, 0.1889],\n",
       "        [0.0974, 0.3166, 0.2793, 0.0335, 0.2732],\n",
       "        [0.1467, 0.1876, 0.1005, 0.5539, 0.0113],\n",
       "        [0.0117, 0.1803, 0.1692, 0.6174, 0.0213],\n",
       "        [0.1850, 0.0741, 0.2573, 0.2279, 0.2557]])"
      ]
     },
     "execution_count": 36,
     "metadata": {},
     "output_type": "execute_result"
    }
   ],
   "source": [
    "election_data.voter_utilities"
   ]
  },
  {
   "cell_type": "code",
   "execution_count": 37,
   "id": "eb68e9fa-7387-4929-9097-0eb7a0ff877b",
   "metadata": {},
   "outputs": [
    {
     "data": {
      "text/plain": [
       "tensor([[0.2053, 0.0586, 0.2920, 0.1286, 0.3155],\n",
       "        [0.0327, 0.2981, 0.2028, 0.2782, 0.1882],\n",
       "        [0.1406, 0.1929, 0.2148, 0.3222, 0.1294],\n",
       "        [0.3066, 0.3657, 0.1072, 0.0879, 0.1327],\n",
       "        [0.1206, 0.2023, 0.3823, 0.1103, 0.1845],\n",
       "        [0.1863, 0.1019, 0.3309, 0.0988, 0.2820],\n",
       "        [0.0453, 0.2569, 0.3266, 0.0876, 0.2836],\n",
       "        [0.2045, 0.0709, 0.2436, 0.2450, 0.2360],\n",
       "        [0.0896, 0.2169, 0.2249, 0.2590, 0.2095],\n",
       "        [0.3069, 0.2245, 0.0903, 0.1168, 0.2616],\n",
       "        [0.2348, 0.2902, 0.2798, 0.0997, 0.0955],\n",
       "        [0.2321, 0.0901, 0.1961, 0.4103, 0.0714],\n",
       "        [0.2179, 0.3057, 0.1586, 0.0534, 0.2645],\n",
       "        [0.2829, 0.2992, 0.0986, 0.2842, 0.0350],\n",
       "        [0.0934, 0.2666, 0.1321, 0.2104, 0.2974],\n",
       "        [0.3086, 0.0302, 0.1611, 0.3219, 0.1782],\n",
       "        [0.1632, 0.0443, 0.2240, 0.2621, 0.3064],\n",
       "        [0.2129, 0.1522, 0.1875, 0.4101, 0.0373],\n",
       "        [0.2905, 0.1217, 0.2768, 0.2443, 0.0667],\n",
       "        [0.2103, 0.1979, 0.1879, 0.1325, 0.2715],\n",
       "        [0.1664, 0.0764, 0.4039, 0.0784, 0.2748],\n",
       "        [0.2397, 0.1216, 0.3822, 0.0509, 0.2055],\n",
       "        [0.3520, 0.1780, 0.2092, 0.2330, 0.0278],\n",
       "        [0.1551, 0.3585, 0.1049, 0.2370, 0.1445],\n",
       "        [0.2577, 0.2019, 0.2277, 0.2785, 0.0342],\n",
       "        [0.1712, 0.1481, 0.3979, 0.1208, 0.1620],\n",
       "        [0.2544, 0.1008, 0.4018, 0.0693, 0.1737],\n",
       "        [0.1026, 0.3372, 0.1666, 0.2823, 0.1112],\n",
       "        [0.1033, 0.2130, 0.0863, 0.3862, 0.2112],\n",
       "        [0.0129, 0.2200, 0.2046, 0.3002, 0.2623],\n",
       "        [0.2658, 0.2804, 0.0375, 0.2628, 0.1535],\n",
       "        [0.3671, 0.0999, 0.0946, 0.3412, 0.0972],\n",
       "        [0.2574, 0.1885, 0.0733, 0.2305, 0.2503],\n",
       "        [0.0542, 0.3423, 0.0650, 0.3611, 0.1775],\n",
       "        [0.1236, 0.3545, 0.0401, 0.2317, 0.2501],\n",
       "        [0.3149, 0.2342, 0.2351, 0.1252, 0.0905],\n",
       "        [0.2975, 0.1889, 0.2954, 0.0548, 0.1634],\n",
       "        [0.2183, 0.1712, 0.1523, 0.4105, 0.0477],\n",
       "        [0.1284, 0.1218, 0.2582, 0.2717, 0.2200],\n",
       "        [0.3756, 0.1348, 0.2739, 0.1248, 0.0910],\n",
       "        [0.2552, 0.2589, 0.0687, 0.3211, 0.0962],\n",
       "        [0.2003, 0.0887, 0.3298, 0.1004, 0.2808],\n",
       "        [0.1189, 0.2788, 0.0284, 0.3524, 0.2215],\n",
       "        [0.0246, 0.2279, 0.1996, 0.2505, 0.2974],\n",
       "        [0.1001, 0.2132, 0.1462, 0.3374, 0.2030],\n",
       "        [0.2663, 0.1236, 0.1028, 0.3888, 0.1185],\n",
       "        [0.1698, 0.1546, 0.3234, 0.0473, 0.3050],\n",
       "        [0.2771, 0.1614, 0.2594, 0.0380, 0.2641],\n",
       "        [0.1879, 0.3151, 0.1408, 0.2085, 0.1478]], grad_fn=<SoftmaxBackward0>)"
      ]
     },
     "execution_count": 37,
     "metadata": {},
     "output_type": "execute_result"
    }
   ],
   "source": [
    "strategy_model(election_data.voter_utilities)"
   ]
  },
  {
   "cell_type": "code",
   "execution_count": null,
   "id": "0bfdd9d3-dd16-4f8f-b36b-a125245dd8f0",
   "metadata": {},
   "outputs": [],
   "source": []
  }
 ],
 "metadata": {
  "kernelspec": {
   "display_name": ".venv",
   "language": "python",
   "name": "python3"
  },
  "language_info": {
   "codemirror_mode": {
    "name": "ipython",
    "version": 3
   },
   "file_extension": ".py",
   "mimetype": "text/x-python",
   "name": "python",
   "nbconvert_exporter": "python",
   "pygments_lexer": "ipython3",
   "version": "3.12.8"
  }
 },
 "nbformat": 4,
 "nbformat_minor": 5
}
