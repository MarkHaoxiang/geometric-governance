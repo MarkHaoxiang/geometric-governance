{
 "cells": [
  {
   "cell_type": "code",
   "execution_count": null,
   "id": "09d17a48",
   "metadata": {},
   "outputs": [],
   "source": [
    "from geometric_governance.data import generate_grenoble_election\n",
    "\n",
    "election = generate_grenoble_election(10, 3)"
   ]
  },
  {
   "cell_type": "code",
   "execution_count": null,
   "id": "a187d1f8",
   "metadata": {},
   "outputs": [],
   "source": [
    "election.voter_utilities"
   ]
  }
 ],
 "metadata": {
  "kernelspec": {
   "display_name": ".venv",
   "language": "python",
   "name": "python3"
  },
  "language_info": {
   "codemirror_mode": {
    "name": "ipython",
    "version": 3
   },
   "file_extension": ".py",
   "mimetype": "text/x-python",
   "name": "python",
   "nbconvert_exporter": "python",
   "pygments_lexer": "ipython3",
   "version": "3.12.8"
  }
 },
 "nbformat": 4,
 "nbformat_minor": 5
}
