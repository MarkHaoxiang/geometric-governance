{
 "cells": [
  {
   "cell_type": "code",
   "execution_count": null,
   "metadata": {},
   "outputs": [],
   "source": [
    "import numpy as np\n",
    "import torch\n",
    "from torch_geometric.loader import DataLoader\n",
    "from torch_geometric.nn import MessagePassing\n",
    "from tqdm import tqdm\n",
    "\n",
    "from geometric_governance.utils import RangeOrValue, get_value\n",
    "from geometric_governance.data import generate_synthetic_election\n",
    "\n",
    "NUM_VOTERS_RANGE = (3, 50)\n",
    "NUM_CANDIDATES_RANGE = (2, 10)\n",
    "DATASET_SIZE = 1_000\n",
    "# DATASET_SIZE = 100_000\n",
    "TRAIN_BATCH_SIZE = 128\n",
    "\n",
    "\n",
    "def generate_plurality_bipartite_dataset(\n",
    "    dataset_size: int,\n",
    "    num_voters_range: RangeOrValue,\n",
    "    num_candidates_range: RangeOrValue,\n",
    "    dataloader_batch_size: int,\n",
    "    top_k_candidates: int,\n",
    "    rng: np.random.Generator,\n",
    "):\n",
    "    graphs = []\n",
    "    for _ in tqdm(range(dataset_size)):\n",
    "        num_voters = get_value(num_voters_range, rng)\n",
    "        num_candidates = get_value(num_candidates_range, rng)\n",
    "\n",
    "        election_data = generate_synthetic_election(\n",
    "            num_voters=num_voters, num_candidates=num_candidates, rng=rng\n",
    "        )\n",
    "\n",
    "        graph = election_data.to_bipartite_graph(top_k_candidates, vote_data=\"ranking\")\n",
    "\n",
    "        #  Add plurality votes\n",
    "        votes = graph.edge_index[1, (graph.edge_attr == 1).squeeze()]\n",
    "        votes -= num_voters  # Index offse\n",
    "        vote_count = torch.bincount(votes, minlength=num_candidates)\n",
    "        # If multiple winners, equivalent to dice roll\n",
    "        winners = torch.where(vote_count == torch.max(vote_count), 1, 0)\n",
    "        winners = (winners / winners.sum()).to(torch.float32)\n",
    "\n",
    "        graph.y = winners\n",
    "        graphs.append(graph)\n",
    "    dataloader = DataLoader(graphs, batch_size=dataloader_batch_size, shuffle=True)\n",
    "    return dataloader\n",
    "\n",
    "\n",
    "dataloader = generate_plurality_bipartite_dataset(\n",
    "    dataset_size=DATASET_SIZE,\n",
    "    num_voters_range=NUM_VOTERS_RANGE,\n",
    "    num_candidates_range=NUM_CANDIDATES_RANGE,\n",
    "    dataloader_batch_size=TRAIN_BATCH_SIZE,\n",
    "    top_k_candidates=5,\n",
    "    rng=np.random.default_rng(seed=42),\n",
    ")"
   ]
  },
  {
   "cell_type": "code",
   "execution_count": null,
   "metadata": {},
   "outputs": [],
   "source": [
    "class MessagePassingElectionModel:\n",
    "    pass"
   ]
  },
  {
   "cell_type": "code",
   "execution_count": null,
   "metadata": {},
   "outputs": [],
   "source": [
    "graph = generate_synthetic_election(50, 50).to_bipartite_graph(5, vote_data=\"ranking\")\n",
    "graph.edge_index[1, (graph.edge_attr == 1).squeeze()]"
   ]
  }
 ],
 "metadata": {
  "kernelspec": {
   "display_name": ".venv",
   "language": "python",
   "name": "python3"
  },
  "language_info": {
   "codemirror_mode": {
    "name": "ipython",
    "version": 3
   },
   "file_extension": ".py",
   "mimetype": "text/x-python",
   "name": "python",
   "nbconvert_exporter": "python",
   "pygments_lexer": "ipython3",
   "version": "3.12.8"
  }
 },
 "nbformat": 4,
 "nbformat_minor": 2
}
